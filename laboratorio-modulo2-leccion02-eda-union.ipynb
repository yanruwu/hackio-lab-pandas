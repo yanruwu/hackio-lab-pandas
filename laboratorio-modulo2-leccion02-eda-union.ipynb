{
 "cells": [
  {
   "cell_type": "markdown",
   "metadata": {},
   "source": [
    "<div style=\"text-align: center;\">\n",
    "  <img src=\"https://github.com/Hack-io-Data/Imagenes/blob/main/01-LogosHackio/logo_naranja@4x.png?raw=true\" alt=\"esquema\" />\n",
    "</div>"
   ]
  },
  {
   "cell_type": "markdown",
   "metadata": {},
   "source": [
    "# Laboratorio Pandas (EDA y Unión de Datos)\n",
    "\n",
    "## Los datos\n",
    "\n",
    "Para este laboratorio, trabajarás con los siguientes conjuntos de datos:\n",
    "\n",
    "- **`netflix_originals.csv`**: Contiene información sobre producciones originales de Netflix. Las columnas que nos encontraremos en este conjunto de datos son: \n",
    "\n",
    "   - `Title`: Contiene el nombre del título de la producción original de Netflix.\n",
    "\n",
    "   - `Genre`: Especifica el género o combinación de géneros de la producción.\n",
    "\n",
    "   - `Premiere`: Indica la fecha de estreno de la producción en Netflix.\n",
    "\n",
    "   - `Runtime`: Contiene la duración de la producción en minutos.\n",
    "\n",
    "   - `IMDB Score`: Representa la calificación promedio que la producción ha recibido en la plataforma IMDB.\n",
    "\n",
    "   - `Language`: Especifica el idioma principal o los idiomas en los que se presenta la producción.\n",
    "\n",
    "- **`netflix_titles.csv`**: Contiene información sobre una variedad de títulos disponibles en la plataforma Netflix, incluyendo tanto películas como series de televisión. Las columnas que nos encontraremos en este conjunto de datos son:\n",
    "\n",
    "   - `show_id`: Identificador único para cada título en el dataset.\n",
    "\n",
    "   - `type`: Especifica el tipo de contenido, ya sea \"Movie\" (película) o \"TV Show\" (serie de televisión).\n",
    "\n",
    "   - `title`: Contiene el nombre del título de la producción.\n",
    "\n",
    "   - `director`: Muestra el nombre del director del título. Puede estar vacío en algunos casos.\n",
    "\n",
    "   - `cast`: Lista de actores y actrices que participaron en el título. También puede estar vacío en algunos casos.\n",
    "\n",
    "   - `country`: País o países donde se produjo el título. Esta columna también puede tener valores faltantes.\n",
    "\n",
    "   - `date_added`: Fecha en la que el título fue añadido al catálogo de Netflix.\n",
    "\n",
    "   - `release_year`: Año en que el título fue lanzado o producido.\n",
    "\n",
    "   - `rating`: Clasificación del contenido en términos de audiencia (por ejemplo, PG-13, TV-MA).\n",
    "\n",
    "   - `duration`: Duración del título. Para películas, se expresa en minutos (e.g., \"90 min\") y para series en temporadas (e.g., \"2 Seasons\").\n",
    "\n",
    "   - `listed_in`: Categorías o géneros bajo los cuales el título está clasificado (por ejemplo, \"Documentaries\", \"TV Dramas\").\n",
    "\n",
    "   - `description`: Breve sinopsis o descripción del contenido del título.\n",
    "\n",
    "A lo largo de los laboratorios de Pandas, trabajarás con estos conjuntos de datos (o con los derivados del Laboratorio), algunas de las actividades que realizaremos son:\n",
    "\n",
    "- Exploración de datos y análisis exploratorio (EDA) para familiarizarse con los conjuntos de datos.\n",
    "\n",
    "- Realización de uniones entre conjuntos de datos, aplicando diferentes técnicas de *merging* y analizando la relevancia de cada método.\n",
    "\n",
    "- Uso de funciones de selección y filtrado (`loc`, `iloc`) para extraer información clave.\n",
    "\n",
    "- Desarrollo de análisis descriptivos y visualización de patrones para comprender mejor las decisiones estratégicas de la plataforma.\n",
    "\n",
    "----\n",
    "\n",
    "## Objetivo General de la Serie de Laboratorios\n",
    "\n",
    "\n",
    "\n",
    "1. **Unión de `netflix_titles.csv` con `netflix_originals.csv`:**\n",
    "\n",
    "   - **Análisis de contenido original:**  Identificarás los títulos que son producciones originales de Netflix y los compararás con los títulos adquiridos. Este análisis te permitirá:\n",
    "\n",
    "     - Comparar la diversidad de géneros entre los títulos originales y no originales.\n",
    "\n",
    "     - Evaluar si ciertos géneros o tipos de contenido (como documentales o series) son más frecuentes en las producciones originales.\n",
    "\n",
    "     - Investigar si la producción original se concentra en determinados países o idiomas.\n",
    "\n",
    "\n",
    "   - **Evaluación de contenido:** En esta etapa, explorarás si las producciones originales de Netflix tienden a recibir mejores o peores evaluaciones en comparación con el contenido adquirido. Algunas preguntas que se buscarán responder incluyen:\n",
    "\n",
    "     - ¿Los títulos originales tienen una calificación promedio superior en plataformas como IMDB?\n",
    "\n",
    "     - ¿Son las producciones originales más consistentes en términos de calidad percibida?\n",
    "\n",
    "     - ¿Existen diferencias en la popularidad de los títulos originales según su género o país de origen?\n",
    "\n",
    "\n",
    "   - **Identificación de tendencias:**  Por último, este análisis te permitirá explorar cómo ha evolucionado la estrategia de contenido de Netflix a lo largo del tiempo. Algunos puntos clave a investigar serán:\n",
    "\n",
    "     - ¿Cómo ha crecido la producción original en comparación con la adquisición de contenido?\n",
    "\n",
    "     - ¿Qué géneros o tipos de contenido han recibido mayor inversión en los últimos años?\n",
    "     \n",
    "     - ¿Existen patrones en los países o idiomas de las producciones originales, especialmente en relación con la expansión global de Netflix?\n",
    "\n",
    "\n",
    "----\n",
    "\n",
    "\n",
    "## Ejercicio: Análisis y Enriquecimiento del Catálogo de Netflix\n",
    "\n",
    "### Parte 1: Análisis Exploratorio de Datos (EDA)\n",
    "\n",
    "1. **Carga de los datos:**\n",
    "\n",
    "   - Deberás cargar los dos conjuntos de datos que te hemos proporcionado para realizar este Laboratorio:\n",
    "\n",
    "     - `netflix_originals.csv`\n",
    "\n",
    "     - `netflix_titles.csv`\n",
    "\n",
    "   Deberás revisar la estructura de cada conjunto de datos utilizando los métodos aprendidos durante la lección.\n",
    "\n",
    "2. **Análisis de columnas y consistencia:**\n",
    "\n",
    "   - Deberás hacer un análisis exploratorio de cada uno de los conjuntos de datos. Será obligatorio que incluyas las conclusiones generales obtenidas de cada uno de los análisis exploratorios en el Jupyter Notebook de tus soluciones.\n",
    "\n",
    "   - Explorar qué columnas contiene cada conjunto de datos y cuáles son sus tipos de datos. Identificar si hay valores nulos o duplicados.\n",
    "\n",
    "   - Algunas preguntas que nos podemos plantear en esta fase son (recuerda que esto es solo un ejemplo, y que podemos explorar todo lo que queramos/necesitemos para entender lo mejor posible los conjuntos de datos):\n",
    "\n",
    "      - ¿Cuáles son los tipos de datos de cada columna? Nos puede ayudar a detectar si algún tipo de dato está incorrectamente asignado, como fechas almacenadas como cadenas de texto.\n",
    "\n",
    "      - ¿Existen valores nulos? ¿En qué columnas están? Este paso es crucial para decidir si deben ser eliminados, rellenados o ignorados.\n",
    "\n",
    "      - ¿Cuántos títulos únicos hay en cada conjunto de datos? Nos puede permitir verificar si existen títulos duplicados que puedan distorsionar el análisis.\n",
    "\n",
    "      - ¿Qué géneros tenemos en el conjunto de datos? Esto nos puede ayudar a identificar los géneros más populares o incluso a identificar una posible limpieza de dicha columna para poder extraer conclusiones más claras en nuestro análisis.\n",
    "\n",
    "### Parte 2: Unión de Datos\n",
    "\n",
    "1. **Realización de la unión:**\n",
    "\n",
    "   - Deberás realizar la unión que consideres más apropiada entre `netflix_titles.csv` y `netflix_originals.csv`. Además, deberás justificar el tipo de unión que has realizado.\n",
    "\n",
    "   - Esto nos ayudará a contestar preguntas más adelente del tipo:\n",
    "\n",
    "     - ¿Cuántos títulos en `netflix_titles.csv` son producciones originales de Netflix?\n",
    "\n",
    "     - ¿Hay diferencias significativas en la puntuación de IMDB entre títulos originales y no originales?\n",
    "\n",
    "### Parte 3: Uso de `loc` e `iloc`\n",
    "\n",
    "Usando el DataFrame creado en la Parte 2: \n",
    "\n",
    "1. **Filtrado de datos con `loc`:**\n",
    "\n",
    "   - Selecciona todas las filas donde el tipo de contenido sea “Movie”.\n",
    "\n",
    "   - Muestra solo los títulos (title) y la duración (duration) de todos los contenidos que sean de tipo “TV Show”.\n",
    "\n",
    "   - Selecciona todas las filas donde el país sea “United States”.\n",
    "\n",
    "   - Muestra todas las películas (type = “Movie”) y selecciona las columnas title y director.\n",
    "\n",
    "   - Selecciona los títulos (title) y géneros (listed_in) de todas las producciones lanzadas en 2018.\n",
    "\n",
    "   - Selecciona las filas donde la columna director esté vacía y muestra solo los títulos (title).\n",
    "\n",
    "2. **Acceso a datos específicos con `iloc`:**\n",
    "\n",
    "   - Selecciona las primeras 5 filas del conjunto de datos y muestra solo las columnas title, director y country.\n",
    "\n",
    "   - Muestra las últimas 5 filas del conjunto de datos y selecciona las columnas title y description.\n",
    "\n",
    "   - Selecciona las primeras 10 filas del dataset y muestra las columnas desde la segunda hasta la quinta (incluidas). \n",
    "\n",
    "   - Muestra las últimas 7 filas del dataset y selecciona las columnas title, director, y country usando índices posicionales.\n",
    "\n",
    "   - Selecciona las filas desde la 15 hasta la 25 (incluidas) y muestra las primeras 4 columnas.\n",
    "\n",
    "   - Muestra las filas 20 a 30 y solo las columnas title, release_year, y rating usando índices posicionales.\n",
    "\n",
    "\n",
    "**NOTA IMPORTANTE**: Antes de terminar el lab, guarda el conjunto de datos creado en la fase de unión para trabajar con el en las siguientes lecciones. "
   ]
  },
  {
   "cell_type": "code",
   "execution_count": 1,
   "metadata": {},
   "outputs": [],
   "source": [
    "import pandas as pd\n",
    "import numpy as np\n",
    "\n",
    "pd.set_option('display.max_rows', None)"
   ]
  },
  {
   "cell_type": "code",
   "execution_count": 2,
   "metadata": {},
   "outputs": [],
   "source": [
    "titles_csv = pd.read_csv(r\"datos/netflix_titles.csv\", index_col = 0)\n",
    "og_csv = pd.read_csv(r\"datos/netflix_originals.csv\", index_col = 0)\n",
    "\n",
    "df_og = pd.DataFrame(og_csv)\n",
    "df_titles = pd.DataFrame(titles_csv)"
   ]
  },
  {
   "cell_type": "markdown",
   "metadata": {},
   "source": [
    "## **Análisis Exploratorio de Datos**"
   ]
  },
  {
   "cell_type": "markdown",
   "metadata": {},
   "source": [
    "### **Netflix Originals**"
   ]
  },
  {
   "cell_type": "code",
   "execution_count": 3,
   "metadata": {},
   "outputs": [
    {
     "data": {
      "text/html": [
       "<div>\n",
       "<style scoped>\n",
       "    .dataframe tbody tr th:only-of-type {\n",
       "        vertical-align: middle;\n",
       "    }\n",
       "\n",
       "    .dataframe tbody tr th {\n",
       "        vertical-align: top;\n",
       "    }\n",
       "\n",
       "    .dataframe thead th {\n",
       "        text-align: right;\n",
       "    }\n",
       "</style>\n",
       "<table border=\"1\" class=\"dataframe\">\n",
       "  <thead>\n",
       "    <tr style=\"text-align: right;\">\n",
       "      <th></th>\n",
       "      <th>Title</th>\n",
       "      <th>Genre</th>\n",
       "      <th>Premiere</th>\n",
       "      <th>Runtime</th>\n",
       "      <th>IMDB Score</th>\n",
       "      <th>Language</th>\n",
       "    </tr>\n",
       "  </thead>\n",
       "  <tbody>\n",
       "    <tr>\n",
       "      <th>0</th>\n",
       "      <td>Enter the Anime</td>\n",
       "      <td>Documentary</td>\n",
       "      <td>August 5, 2019</td>\n",
       "      <td>58</td>\n",
       "      <td>2.5</td>\n",
       "      <td>English/Japanese</td>\n",
       "    </tr>\n",
       "    <tr>\n",
       "      <th>1</th>\n",
       "      <td>Dark Forces</td>\n",
       "      <td>Thriller</td>\n",
       "      <td>August 21, 2020</td>\n",
       "      <td>81</td>\n",
       "      <td>2.6</td>\n",
       "      <td>Spanish</td>\n",
       "    </tr>\n",
       "    <tr>\n",
       "      <th>2</th>\n",
       "      <td>The App</td>\n",
       "      <td>Science fiction/Drama</td>\n",
       "      <td>December 26, 2019</td>\n",
       "      <td>79</td>\n",
       "      <td>2.6</td>\n",
       "      <td>Italian</td>\n",
       "    </tr>\n",
       "    <tr>\n",
       "      <th>3</th>\n",
       "      <td>The Open House</td>\n",
       "      <td>Horror thriller</td>\n",
       "      <td>January 19, 2018</td>\n",
       "      <td>94</td>\n",
       "      <td>3.2</td>\n",
       "      <td>English</td>\n",
       "    </tr>\n",
       "  </tbody>\n",
       "</table>\n",
       "</div>"
      ],
      "text/plain": [
       "             Title                  Genre           Premiere  Runtime  \\\n",
       "0  Enter the Anime            Documentary     August 5, 2019       58   \n",
       "1      Dark Forces               Thriller    August 21, 2020       81   \n",
       "2          The App  Science fiction/Drama  December 26, 2019       79   \n",
       "3   The Open House        Horror thriller   January 19, 2018       94   \n",
       "\n",
       "   IMDB Score          Language  \n",
       "0         2.5  English/Japanese  \n",
       "1         2.6           Spanish  \n",
       "2         2.6           Italian  \n",
       "3         3.2           English  "
      ]
     },
     "metadata": {},
     "output_type": "display_data"
    }
   ],
   "source": [
    "display(df_og.head(4))"
   ]
  },
  {
   "cell_type": "markdown",
   "metadata": {},
   "source": [
    "#### Coherencia de la estructura de datos\n",
    "Comprobemos primero si el dataframe de los netflix originals mantienen una estructura de datos coherente. Para ello comprobaremos el `dtype` de cada una de las columnas del dataframe:"
   ]
  },
  {
   "cell_type": "code",
   "execution_count": 4,
   "metadata": {},
   "outputs": [
    {
     "data": {
      "text/plain": [
       "Title          object\n",
       "Genre          object\n",
       "Premiere       object\n",
       "Runtime         int64\n",
       "IMDB Score    float64\n",
       "Language       object\n",
       "dtype: object"
      ]
     },
     "execution_count": 4,
     "metadata": {},
     "output_type": "execute_result"
    }
   ],
   "source": [
    "df_og.dtypes ## Comprobamos los tipos de los datos"
   ]
  },
  {
   "cell_type": "markdown",
   "metadata": {},
   "source": [
    "Con este output confirmamos el adecuado formateo de los tipos de datos que encontramos en nuestro dataframe. Los datos de texto están contenidos en `object`, en este caso siendo `str`, mientras que datos como el *Runtime* y el *IMDB Score* se almacenan como números.\n",
    "\n",
    "Ahora procedemos a identificar los valores nulos en cada columna. A partir de esta información podremos determinar si los datos son suficientes como para sacar conclusiones, ya que según la proporción de valores nulos en cada columna podremos inferir su impacto. Para ello usaremos `isna`."
   ]
  },
  {
   "cell_type": "code",
   "execution_count": 5,
   "metadata": {},
   "outputs": [
    {
     "name": "stdout",
     "output_type": "stream",
     "text": [
      "Null values per column:\n"
     ]
    },
    {
     "data": {
      "text/plain": [
       "Title         0\n",
       "Genre         0\n",
       "Premiere      0\n",
       "Runtime       0\n",
       "IMDB Score    0\n",
       "Language      0\n",
       "dtype: int64"
      ]
     },
     "metadata": {},
     "output_type": "display_data"
    }
   ],
   "source": [
    "print(\"Null values per column:\")\n",
    "display(df_og.isna().sum())"
   ]
  },
  {
   "cell_type": "markdown",
   "metadata": {},
   "source": [
    "En este caso no encontramos ningún valor nulo en ninguna de las columnas, por lo que no habrá problemas en cuanto a la realización de un análisis o inferencia estadística. \n",
    "\n",
    "Otro factor a tener en cuenta son los valores duplicados. En este caso la mayoría de parámetros son categóricos, por lo que es normal que estén duplicados. Sin embargo, el título de la producción debería ser único para cada caso. Vamos a comprobar si esto es así con el uso de `duplicated`."
   ]
  },
  {
   "cell_type": "code",
   "execution_count": 6,
   "metadata": {},
   "outputs": [
    {
     "name": "stdout",
     "output_type": "stream",
     "text": [
      "Duplicated titles: 0\n"
     ]
    }
   ],
   "source": [
    "print(f'Duplicated titles: {df_og[\"Title\"].duplicated().sum()}' )"
   ]
  },
  {
   "cell_type": "markdown",
   "metadata": {},
   "source": [
    "Vemos que no hay títulos repetidos, por lo que no encontraremos ninguna línea redundante."
   ]
  },
  {
   "cell_type": "markdown",
   "metadata": {},
   "source": [
    "#### Análisis "
   ]
  },
  {
   "cell_type": "code",
   "execution_count": 7,
   "metadata": {},
   "outputs": [
    {
     "name": "stdout",
     "output_type": "stream",
     "text": [
      "Number of titles: 513\n",
      "\n",
      "Most common genres:\n",
      "Genre\n",
      "Documentary        132\n",
      "Drama               73\n",
      "Comedy              42\n",
      "Romantic comedy     35\n",
      "Thriller            33\n",
      "Comedy-drama        14\n",
      "Crime drama         10\n",
      "Horror               9\n",
      "Biopic               8\n",
      "Action               7\n",
      "Name: count, dtype: int64\n",
      "\n",
      "Most common genre percentage:\n",
      "Documentary: 25.73 %\n"
     ]
    }
   ],
   "source": [
    "og_len = df_og.shape[0]\n",
    "\n",
    "print(f'Number of titles: {og_len}\\n')\n",
    "\n",
    "common_genres_series = df_og[\"Genre\"].value_counts()\n",
    "print(\"Most common genres:\")\n",
    "print(common_genres_series[:10])\n",
    "\n",
    "print(\"\\nMost common genre percentage:\")\n",
    "print(f'{common_genres_series.keys()[0]}: {df_og[\"Genre\"].value_counts(normalize=True).iloc[0]*100:.2f} %')"
   ]
  },
  {
   "cell_type": "markdown",
   "metadata": {},
   "source": [
    "Tras un análisis rápido podemos comprobar que el género más común en los títulos originales el el de **Documentales**, el cual representa 132 títulos, siendo un 25.73 % de todos los títulos originales. \n",
    "\n",
    "Otro dato interesante que podríamos averiguar serían algunas estadísticas de la calificación que tienen las producciones originales. Esto se puede calcular mediante el uso de herramientas de cálculo estadístico o un método integrado en Pandas como `describe`."
   ]
  },
  {
   "cell_type": "code",
   "execution_count": 8,
   "metadata": {},
   "outputs": [
    {
     "name": "stdout",
     "output_type": "stream",
     "text": [
      "count    513.00\n",
      "mean       6.21\n",
      "std        0.97\n",
      "min        2.50\n",
      "25%        5.60\n",
      "50%        6.30\n",
      "75%        6.90\n",
      "max        9.00\n",
      "Name: IMDB Score, dtype: float64\n",
      "\n",
      "Coefficient of variation: 0.156\n",
      "Median 6.3\n"
     ]
    }
   ],
   "source": [
    "score_stats_og = df_og[\"IMDB Score\"].describe().round(2)\n",
    "print(score_stats_og)\n",
    "\n",
    "score_std_og = score_stats_og.values[2]\n",
    "score_mean_og = score_stats_og.values[1]\n",
    "\n",
    "score_median_og = np.median(df_og[\"IMDB Score\"].values)\n",
    "\n",
    "cv_score_og = score_std_og/score_mean_og\n",
    "\n",
    "print(f\"\\nCoefficient of variation: {cv_score_og:.3f}\")\n",
    "print(f\"Median {score_median_og}\")\n"
   ]
  },
  {
   "cell_type": "markdown",
   "metadata": {},
   "source": [
    "A partir de las estadísticas de las puntuaciones vemos que estas son de **media** un 6.21, con una **desviación típica** de 0.97 puntos. Esto nos indica que los datos no están muy dispersos en este caso, además de que si usamos una medida como puede ser el **coeficiente de variación** vemos que este es bastante menor a 1, lo cual indica la baja dispersión. \n",
    "\n",
    "También podemos considerar una medida más robusta contra valores atípicos como podría ser la **mediana**, la cual nos da un valor de 6.3. Con esto y los **cuartiles** podemos observar que la mitad de las producciones están por debajo del 6.3 y la otra mitad por encima. Podemos verlo visualmente usando un histograma."
   ]
  },
  {
   "cell_type": "code",
   "execution_count": 9,
   "metadata": {},
   "outputs": [
    {
     "data": {
      "text/plain": [
       "<Axes: >"
      ]
     },
     "execution_count": 9,
     "metadata": {},
     "output_type": "execute_result"
    },
    {
     "data": {
      "image/png": "[encoded data removed]",
      "text/plain": [
       "<Figure size 640x480 with 1 Axes>"
      ]
     },
     "metadata": {},
     "output_type": "display_data"
    }
   ],
   "source": [
    "df_og[\"IMDB Score\"].hist()"
   ]
  },
  {
   "cell_type": "markdown",
   "metadata": {},
   "source": [
    "Otro dato relevante podría ser el género con la mayor puntuación media, así sabremos qué tipo de producciones son de mayor calidad."
   ]
  },
  {
   "cell_type": "code",
   "execution_count": 10,
   "metadata": {},
   "outputs": [
    {
     "data": {
      "text/html": [
       "<div>\n",
       "<style scoped>\n",
       "    .dataframe tbody tr th:only-of-type {\n",
       "        vertical-align: middle;\n",
       "    }\n",
       "\n",
       "    .dataframe tbody tr th {\n",
       "        vertical-align: top;\n",
       "    }\n",
       "\n",
       "    .dataframe thead th {\n",
       "        text-align: right;\n",
       "    }\n",
       "</style>\n",
       "<table border=\"1\" class=\"dataframe\">\n",
       "  <thead>\n",
       "    <tr style=\"text-align: right;\">\n",
       "      <th></th>\n",
       "      <th>IMDB Score</th>\n",
       "    </tr>\n",
       "    <tr>\n",
       "      <th>Genre</th>\n",
       "      <th></th>\n",
       "    </tr>\n",
       "  </thead>\n",
       "  <tbody>\n",
       "    <tr>\n",
       "      <th>Animation/Christmas/Comedy/Adventure</th>\n",
       "      <td>8.2</td>\n",
       "    </tr>\n",
       "    <tr>\n",
       "      <th>Anthology/Dark comedy</th>\n",
       "      <td>7.6</td>\n",
       "    </tr>\n",
       "    <tr>\n",
       "      <th>Animation / Science Fiction</th>\n",
       "      <td>7.5</td>\n",
       "    </tr>\n",
       "    <tr>\n",
       "      <th>Concert Film</th>\n",
       "      <td>7.4</td>\n",
       "    </tr>\n",
       "    <tr>\n",
       "      <th>Action-adventure</th>\n",
       "      <td>7.3</td>\n",
       "    </tr>\n",
       "  </tbody>\n",
       "</table>\n",
       "</div>"
      ],
      "text/plain": [
       "                                      IMDB Score\n",
       "Genre                                           \n",
       "Animation/Christmas/Comedy/Adventure         8.2\n",
       "Anthology/Dark comedy                        7.6\n",
       "Animation / Science Fiction                  7.5\n",
       "Concert Film                                 7.4\n",
       "Action-adventure                             7.3"
      ]
     },
     "execution_count": 10,
     "metadata": {},
     "output_type": "execute_result"
    }
   ],
   "source": [
    "# Cogemos del dataframe el género y la puntuación y los agrupamos por género para luego aplicar la media por género.\n",
    "# Luego ordenamos los valores por Score de forma descendente para obtener los de mayor puntuación. Por último head para mostrar los 5 primeros.\n",
    "\n",
    "df_og[[\"Genre\", \"IMDB Score\"]].groupby(\"Genre\").mean().sort_values(by = \"IMDB Score\", ascending = False).head(5)"
   ]
  },
  {
   "cell_type": "markdown",
   "metadata": {},
   "source": [
    "Vemos que las mejores producciones originales son aquellas películas animadas de navidad. Sin embargo no podemos inferir que lo mejor que hace Netflix son este tipo de películas, ya que puede ser que haya una sola película de este género que haya obtenido esta puntuación. Comprobemos."
   ]
  },
  {
   "cell_type": "code",
   "execution_count": 11,
   "metadata": {},
   "outputs": [
    {
     "data": {
      "text/plain": [
       "1"
      ]
     },
     "execution_count": 11,
     "metadata": {},
     "output_type": "execute_result"
    }
   ],
   "source": [
    "(df_og[\"Genre\"] == f\"Animation / Science Fiction\").sum()"
   ]
  },
  {
   "cell_type": "markdown",
   "metadata": {},
   "source": [
    "De hecho, es así. Solo hay una película que ha sido valorada de forma muy positiva. De hecho, los 5 mejores géneros contienen todos una sola película. Más adelante podremos filtrar los resultados de forma que las inferencias que realicemos sean estadísticamente relevantes."
   ]
  },
  {
   "cell_type": "markdown",
   "metadata": {},
   "source": [
    "### **Netflix Titles**"
   ]
  },
  {
   "cell_type": "code",
   "execution_count": 12,
   "metadata": {},
   "outputs": [
    {
     "data": {
      "text/html": [
       "<div>\n",
       "<style scoped>\n",
       "    .dataframe tbody tr th:only-of-type {\n",
       "        vertical-align: middle;\n",
       "    }\n",
       "\n",
       "    .dataframe tbody tr th {\n",
       "        vertical-align: top;\n",
       "    }\n",
       "\n",
       "    .dataframe thead th {\n",
       "        text-align: right;\n",
       "    }\n",
       "</style>\n",
       "<table border=\"1\" class=\"dataframe\">\n",
       "  <thead>\n",
       "    <tr style=\"text-align: right;\">\n",
       "      <th></th>\n",
       "      <th>show_id</th>\n",
       "      <th>type</th>\n",
       "      <th>title</th>\n",
       "      <th>director</th>\n",
       "      <th>cast</th>\n",
       "      <th>country</th>\n",
       "      <th>date_added</th>\n",
       "      <th>release_year</th>\n",
       "      <th>rating</th>\n",
       "      <th>duration</th>\n",
       "      <th>listed_in</th>\n",
       "      <th>description</th>\n",
       "    </tr>\n",
       "  </thead>\n",
       "  <tbody>\n",
       "    <tr>\n",
       "      <th>0</th>\n",
       "      <td>s1</td>\n",
       "      <td>Movie</td>\n",
       "      <td>Dick Johnson Is Dead</td>\n",
       "      <td>Kirsten Johnson</td>\n",
       "      <td>NaN</td>\n",
       "      <td>United States</td>\n",
       "      <td>September 25, 2021</td>\n",
       "      <td>2020</td>\n",
       "      <td>PG-13</td>\n",
       "      <td>90 min</td>\n",
       "      <td>Documentaries</td>\n",
       "      <td>As her father nears the end of his life, filmm...</td>\n",
       "    </tr>\n",
       "    <tr>\n",
       "      <th>1</th>\n",
       "      <td>s2</td>\n",
       "      <td>TV Show</td>\n",
       "      <td>Blood &amp; Water</td>\n",
       "      <td>NaN</td>\n",
       "      <td>Ama Qamata, Khosi Ngema, Gail Mabalane, Thaban...</td>\n",
       "      <td>South Africa</td>\n",
       "      <td>September 24, 2021</td>\n",
       "      <td>2021</td>\n",
       "      <td>TV-MA</td>\n",
       "      <td>2 Seasons</td>\n",
       "      <td>International TV Shows, TV Dramas, TV Mysteries</td>\n",
       "      <td>After crossing paths at a party, a Cape Town t...</td>\n",
       "    </tr>\n",
       "  </tbody>\n",
       "</table>\n",
       "</div>"
      ],
      "text/plain": [
       "  show_id     type                 title         director  \\\n",
       "0      s1    Movie  Dick Johnson Is Dead  Kirsten Johnson   \n",
       "1      s2  TV Show         Blood & Water              NaN   \n",
       "\n",
       "                                                cast        country  \\\n",
       "0                                                NaN  United States   \n",
       "1  Ama Qamata, Khosi Ngema, Gail Mabalane, Thaban...   South Africa   \n",
       "\n",
       "           date_added  release_year rating   duration  \\\n",
       "0  September 25, 2021          2020  PG-13     90 min   \n",
       "1  September 24, 2021          2021  TV-MA  2 Seasons   \n",
       "\n",
       "                                         listed_in  \\\n",
       "0                                    Documentaries   \n",
       "1  International TV Shows, TV Dramas, TV Mysteries   \n",
       "\n",
       "                                         description  \n",
       "0  As her father nears the end of his life, filmm...  \n",
       "1  After crossing paths at a party, a Cape Town t...  "
      ]
     },
     "metadata": {},
     "output_type": "display_data"
    }
   ],
   "source": [
    "display(df_titles.head(2))"
   ]
  },
  {
   "cell_type": "markdown",
   "metadata": {},
   "source": [
    "#### Coherencia de la estructura de datos\n",
    "Comprobemos primero si el dataframe de los netflix titles mantienen una estructura de datos coherente. Para ello comprobaremos el `dtype` de cada una de las columnas del dataframe:"
   ]
  },
  {
   "cell_type": "code",
   "execution_count": 13,
   "metadata": {},
   "outputs": [
    {
     "data": {
      "text/plain": [
       "show_id         object\n",
       "type            object\n",
       "title           object\n",
       "director        object\n",
       "cast            object\n",
       "country         object\n",
       "date_added      object\n",
       "release_year     int64\n",
       "rating          object\n",
       "duration        object\n",
       "listed_in       object\n",
       "description     object\n",
       "dtype: object"
      ]
     },
     "execution_count": 13,
     "metadata": {},
     "output_type": "execute_result"
    }
   ],
   "source": [
    "df_titles.dtypes ## Comprobamos los tipos de los datos"
   ]
  },
  {
   "cell_type": "markdown",
   "metadata": {},
   "source": [
    "Con este output confirmamos el adecuado formateo de los tipos de datos que encontramos en nuestro dataframe. Los datos de texto están contenidos en `object`, en este caso siendo `str`, mientras que *Release_Year* es número. Sería interesante que la duración fuera un valor numérico, aunque según la información del dataframe, es texto para diferenciar entre minutos y temporadas. Podría ser interesante transformarlos todos a números y separar minutos de temporadas con un criterio de separación entre series y películas.\n",
    "\n",
    "Ahora procedemos a identificar los valores nulos en cada columna. A partir de esta información podremos determinar si los datos son suficientes como para sacar conclusiones, ya que según la proporción de valores nulos en cada columna podremos inferir su impacto. Para ello usaremos `isna`."
   ]
  },
  {
   "cell_type": "code",
   "execution_count": 14,
   "metadata": {},
   "outputs": [
    {
     "name": "stdout",
     "output_type": "stream",
     "text": [
      "Null values per column:\n"
     ]
    },
    {
     "data": {
      "text/plain": [
       "show_id            0\n",
       "type               0\n",
       "title              0\n",
       "director        2634\n",
       "cast             825\n",
       "country          831\n",
       "date_added        10\n",
       "release_year       0\n",
       "rating             4\n",
       "duration        4813\n",
       "listed_in          0\n",
       "description        0\n",
       "dtype: int64"
      ]
     },
     "metadata": {},
     "output_type": "display_data"
    }
   ],
   "source": [
    "print(\"Null values per column:\")\n",
    "display(df_titles.isna().sum())"
   ]
  },
  {
   "cell_type": "markdown",
   "metadata": {},
   "source": [
    "En este caso encontramos varios valores nulos en varias de las columnas. En este caso se encuentran en las columnas de *director, cast, country, date_added, rating y duration*. Dependiendo del análisis que queramos realizar posteriormente decidiremos qué hacer con estos datos. Como añadido, podemos ver también el porcentaje que representan según el número de filas totales."
   ]
  },
  {
   "cell_type": "code",
   "execution_count": 15,
   "metadata": {},
   "outputs": [
    {
     "data": {
      "text/plain": [
       "show_id          0.00\n",
       "type             0.00\n",
       "title            0.00\n",
       "director        29.91\n",
       "cast             9.37\n",
       "country          9.44\n",
       "date_added       0.11\n",
       "release_year     0.00\n",
       "rating           0.05\n",
       "duration        54.65\n",
       "listed_in        0.00\n",
       "description      0.00\n",
       "dtype: float64"
      ]
     },
     "execution_count": 15,
     "metadata": {},
     "output_type": "execute_result"
    }
   ],
   "source": [
    "(df_titles.isna().sum()/df_titles.shape[0]*100).round(2)"
   ]
  },
  {
   "cell_type": "markdown",
   "metadata": {},
   "source": [
    "Con este porcentaje tenemos mucho más contexto de la cantidad de valores nulos que tenemos. Vemos que no tenemos información de la duración en más de la mitad de los títulos, lo cual puede resultarnos útil según el análisis realizado."
   ]
  },
  {
   "cell_type": "markdown",
   "metadata": {},
   "source": [
    "\n",
    "Otro factor a tener en cuenta son los valores duplicados. En este caso la mayoría de parámetros son categóricos, por lo que es normal que estén duplicados. Sin embargo, el título y la descripción de la producción deberían ser único para cada caso. Vamos a comprobar si esto es así con el uso de `duplicated`."
   ]
  },
  {
   "cell_type": "code",
   "execution_count": 16,
   "metadata": {},
   "outputs": [
    {
     "name": "stdout",
     "output_type": "stream",
     "text": [
      "Duplicated titles: 0\n",
      "Duplicated descriptions: 32\n"
     ]
    }
   ],
   "source": [
    "print(f'Duplicated titles: {df_titles[\"title\"].duplicated().sum()}' )\n",
    "print(f'Duplicated descriptions: {df_titles[\"description\"].duplicated().sum()}' )"
   ]
  },
  {
   "cell_type": "markdown",
   "metadata": {},
   "source": [
    "Vemos que no hay títulos repetidos, pero sí hay 32 descripciones repetidas. Viendo los 4 primeros valores del dataframe, vemos que 3 de ellos corresponden a la misma película pero en idioma diferente. Esto nos indica que algunos de los duplicados corresponden a esto, pero se necesitaría un análisis más profundo como para poder saber si hay algún dato redundante: "
   ]
  },
  {
   "cell_type": "code",
   "execution_count": 17,
   "metadata": {},
   "outputs": [
    {
     "data": {
      "text/html": [
       "<div>\n",
       "<style scoped>\n",
       "    .dataframe tbody tr th:only-of-type {\n",
       "        vertical-align: middle;\n",
       "    }\n",
       "\n",
       "    .dataframe tbody tr th {\n",
       "        vertical-align: top;\n",
       "    }\n",
       "\n",
       "    .dataframe thead th {\n",
       "        text-align: right;\n",
       "    }\n",
       "</style>\n",
       "<table border=\"1\" class=\"dataframe\">\n",
       "  <thead>\n",
       "    <tr style=\"text-align: right;\">\n",
       "      <th></th>\n",
       "      <th>show_id</th>\n",
       "      <th>type</th>\n",
       "      <th>title</th>\n",
       "      <th>director</th>\n",
       "      <th>cast</th>\n",
       "      <th>country</th>\n",
       "      <th>date_added</th>\n",
       "      <th>release_year</th>\n",
       "      <th>rating</th>\n",
       "      <th>duration</th>\n",
       "      <th>listed_in</th>\n",
       "      <th>description</th>\n",
       "    </tr>\n",
       "  </thead>\n",
       "  <tbody>\n",
       "    <tr>\n",
       "      <th>78</th>\n",
       "      <td>s79</td>\n",
       "      <td>Movie</td>\n",
       "      <td>Tughlaq Durbar</td>\n",
       "      <td>Delhiprasad Deenadayalan</td>\n",
       "      <td>Vijay Sethupathi, Parthiban, Raashi Khanna</td>\n",
       "      <td>NaN</td>\n",
       "      <td>September 11, 2021</td>\n",
       "      <td>2020</td>\n",
       "      <td>TV-14</td>\n",
       "      <td>145 min</td>\n",
       "      <td>Comedies, Dramas, International Movies</td>\n",
       "      <td>A budding politician has devious plans to rise...</td>\n",
       "    </tr>\n",
       "    <tr>\n",
       "      <th>79</th>\n",
       "      <td>s80</td>\n",
       "      <td>Movie</td>\n",
       "      <td>Tughlaq Durbar (Telugu)</td>\n",
       "      <td>Delhiprasad Deenadayalan</td>\n",
       "      <td>Vijay Sethupathi, Parthiban, Raashi Khanna</td>\n",
       "      <td>NaN</td>\n",
       "      <td>September 11, 2021</td>\n",
       "      <td>2021</td>\n",
       "      <td>TV-14</td>\n",
       "      <td>145 min</td>\n",
       "      <td>Comedies, Dramas, International Movies</td>\n",
       "      <td>A budding politician has devious plans to rise...</td>\n",
       "    </tr>\n",
       "    <tr>\n",
       "      <th>7022</th>\n",
       "      <td>s7023</td>\n",
       "      <td>Movie</td>\n",
       "      <td>Hum Saath-Saath Hain</td>\n",
       "      <td>Sooraj R. Barjatya</td>\n",
       "      <td>Salman Khan, Karisma Kapoor, Saif Ali Khan, Ta...</td>\n",
       "      <td>India</td>\n",
       "      <td>January 1, 2018</td>\n",
       "      <td>1999</td>\n",
       "      <td>TV-G</td>\n",
       "      <td>NaN</td>\n",
       "      <td>Dramas, International Movies, Music &amp; Musicals</td>\n",
       "      <td>A scheming matriarch plots to cut off her disa...</td>\n",
       "    </tr>\n",
       "    <tr>\n",
       "      <th>2969</th>\n",
       "      <td>s2970</td>\n",
       "      <td>Movie</td>\n",
       "      <td>Together For Eternity</td>\n",
       "      <td>Sooraj R. Barjatya</td>\n",
       "      <td>Salman Khan, Karisma Kapoor, Saif Ali Khan, Ta...</td>\n",
       "      <td>India</td>\n",
       "      <td>February 1, 2020</td>\n",
       "      <td>1999</td>\n",
       "      <td>TV-G</td>\n",
       "      <td>NaN</td>\n",
       "      <td>Dramas, International Movies, Music &amp; Musicals</td>\n",
       "      <td>A scheming matriarch plots to cut off her disa...</td>\n",
       "    </tr>\n",
       "    <tr>\n",
       "      <th>3492</th>\n",
       "      <td>s3493</td>\n",
       "      <td>Movie</td>\n",
       "      <td>Oh! Baby (Malayalam)</td>\n",
       "      <td>B. V. Nandini Reddy</td>\n",
       "      <td>Samantha Ruth Prabhu, Lakshmi, Rajendraprasad,...</td>\n",
       "      <td>NaN</td>\n",
       "      <td>September 25, 2019</td>\n",
       "      <td>2019</td>\n",
       "      <td>TV-14</td>\n",
       "      <td>146 min</td>\n",
       "      <td>Comedies, International Movies, Music &amp; Musicals</td>\n",
       "      <td>A surly septuagenarian gets another chance at ...</td>\n",
       "    </tr>\n",
       "  </tbody>\n",
       "</table>\n",
       "</div>"
      ],
      "text/plain": [
       "     show_id   type                    title                  director  \\\n",
       "78       s79  Movie           Tughlaq Durbar  Delhiprasad Deenadayalan   \n",
       "79       s80  Movie  Tughlaq Durbar (Telugu)  Delhiprasad Deenadayalan   \n",
       "7022   s7023  Movie     Hum Saath-Saath Hain        Sooraj R. Barjatya   \n",
       "2969   s2970  Movie    Together For Eternity        Sooraj R. Barjatya   \n",
       "3492   s3493  Movie     Oh! Baby (Malayalam)       B. V. Nandini Reddy   \n",
       "\n",
       "                                                   cast country  \\\n",
       "78           Vijay Sethupathi, Parthiban, Raashi Khanna     NaN   \n",
       "79           Vijay Sethupathi, Parthiban, Raashi Khanna     NaN   \n",
       "7022  Salman Khan, Karisma Kapoor, Saif Ali Khan, Ta...   India   \n",
       "2969  Salman Khan, Karisma Kapoor, Saif Ali Khan, Ta...   India   \n",
       "3492  Samantha Ruth Prabhu, Lakshmi, Rajendraprasad,...     NaN   \n",
       "\n",
       "              date_added  release_year rating duration  \\\n",
       "78    September 11, 2021          2020  TV-14  145 min   \n",
       "79    September 11, 2021          2021  TV-14  145 min   \n",
       "7022     January 1, 2018          1999   TV-G      NaN   \n",
       "2969    February 1, 2020          1999   TV-G      NaN   \n",
       "3492  September 25, 2019          2019  TV-14  146 min   \n",
       "\n",
       "                                             listed_in  \\\n",
       "78              Comedies, Dramas, International Movies   \n",
       "79              Comedies, Dramas, International Movies   \n",
       "7022    Dramas, International Movies, Music & Musicals   \n",
       "2969    Dramas, International Movies, Music & Musicals   \n",
       "3492  Comedies, International Movies, Music & Musicals   \n",
       "\n",
       "                                            description  \n",
       "78    A budding politician has devious plans to rise...  \n",
       "79    A budding politician has devious plans to rise...  \n",
       "7022  A scheming matriarch plots to cut off her disa...  \n",
       "2969  A scheming matriarch plots to cut off her disa...  \n",
       "3492  A surly septuagenarian gets another chance at ...  "
      ]
     },
     "execution_count": 17,
     "metadata": {},
     "output_type": "execute_result"
    }
   ],
   "source": [
    "df_titles[df_titles[\"description\"].duplicated(keep=False)].sort_values(\"description\").head(5)"
   ]
  },
  {
   "cell_type": "markdown",
   "metadata": {},
   "source": [
    "Podemos mantener los duplicados y ordenar por descripción, lo cual nos permitiría ver cada duplicado por pares. Esto para casos con pocos duplicados puede ser útil, ya que tardamos poco en comprobar que son variaciones de idioma o simplemente un título con formato diferente.\n",
    "\n",
    "Para casos con más duplicados, un approach que podemos tomar el comparar el resto de valores, y si los duplicados son la mitad significa que todos son variaciones de título."
   ]
  },
  {
   "cell_type": "code",
   "execution_count": 18,
   "metadata": {},
   "outputs": [
    {
     "data": {
      "text/html": [
       "<div>\n",
       "<style scoped>\n",
       "    .dataframe tbody tr th:only-of-type {\n",
       "        vertical-align: middle;\n",
       "    }\n",
       "\n",
       "    .dataframe tbody tr th {\n",
       "        vertical-align: top;\n",
       "    }\n",
       "\n",
       "    .dataframe thead th {\n",
       "        text-align: right;\n",
       "    }\n",
       "</style>\n",
       "<table border=\"1\" class=\"dataframe\">\n",
       "  <thead>\n",
       "    <tr style=\"text-align: right;\">\n",
       "      <th></th>\n",
       "      <th>type</th>\n",
       "      <th>director</th>\n",
       "      <th>cast</th>\n",
       "      <th>country</th>\n",
       "      <th>date_added</th>\n",
       "      <th>release_year</th>\n",
       "      <th>rating</th>\n",
       "      <th>duration</th>\n",
       "      <th>listed_in</th>\n",
       "      <th>description</th>\n",
       "    </tr>\n",
       "  </thead>\n",
       "  <tbody>\n",
       "    <tr>\n",
       "      <th>78</th>\n",
       "      <td>Movie</td>\n",
       "      <td>Delhiprasad Deenadayalan</td>\n",
       "      <td>Vijay Sethupathi, Parthiban, Raashi Khanna</td>\n",
       "      <td>NaN</td>\n",
       "      <td>September 11, 2021</td>\n",
       "      <td>2020</td>\n",
       "      <td>TV-14</td>\n",
       "      <td>145 min</td>\n",
       "      <td>Comedies, Dramas, International Movies</td>\n",
       "      <td>A budding politician has devious plans to rise...</td>\n",
       "    </tr>\n",
       "    <tr>\n",
       "      <th>79</th>\n",
       "      <td>Movie</td>\n",
       "      <td>Delhiprasad Deenadayalan</td>\n",
       "      <td>Vijay Sethupathi, Parthiban, Raashi Khanna</td>\n",
       "      <td>NaN</td>\n",
       "      <td>September 11, 2021</td>\n",
       "      <td>2021</td>\n",
       "      <td>TV-14</td>\n",
       "      <td>145 min</td>\n",
       "      <td>Comedies, Dramas, International Movies</td>\n",
       "      <td>A budding politician has devious plans to rise...</td>\n",
       "    </tr>\n",
       "    <tr>\n",
       "      <th>7022</th>\n",
       "      <td>Movie</td>\n",
       "      <td>Sooraj R. Barjatya</td>\n",
       "      <td>Salman Khan, Karisma Kapoor, Saif Ali Khan, Ta...</td>\n",
       "      <td>India</td>\n",
       "      <td>January 1, 2018</td>\n",
       "      <td>1999</td>\n",
       "      <td>TV-G</td>\n",
       "      <td>NaN</td>\n",
       "      <td>Dramas, International Movies, Music &amp; Musicals</td>\n",
       "      <td>A scheming matriarch plots to cut off her disa...</td>\n",
       "    </tr>\n",
       "    <tr>\n",
       "      <th>2969</th>\n",
       "      <td>Movie</td>\n",
       "      <td>Sooraj R. Barjatya</td>\n",
       "      <td>Salman Khan, Karisma Kapoor, Saif Ali Khan, Ta...</td>\n",
       "      <td>India</td>\n",
       "      <td>February 1, 2020</td>\n",
       "      <td>1999</td>\n",
       "      <td>TV-G</td>\n",
       "      <td>NaN</td>\n",
       "      <td>Dramas, International Movies, Music &amp; Musicals</td>\n",
       "      <td>A scheming matriarch plots to cut off her disa...</td>\n",
       "    </tr>\n",
       "  </tbody>\n",
       "</table>\n",
       "</div>"
      ],
      "text/plain": [
       "       type                  director  \\\n",
       "78    Movie  Delhiprasad Deenadayalan   \n",
       "79    Movie  Delhiprasad Deenadayalan   \n",
       "7022  Movie        Sooraj R. Barjatya   \n",
       "2969  Movie        Sooraj R. Barjatya   \n",
       "\n",
       "                                                   cast country  \\\n",
       "78           Vijay Sethupathi, Parthiban, Raashi Khanna     NaN   \n",
       "79           Vijay Sethupathi, Parthiban, Raashi Khanna     NaN   \n",
       "7022  Salman Khan, Karisma Kapoor, Saif Ali Khan, Ta...   India   \n",
       "2969  Salman Khan, Karisma Kapoor, Saif Ali Khan, Ta...   India   \n",
       "\n",
       "              date_added  release_year rating duration  \\\n",
       "78    September 11, 2021          2020  TV-14  145 min   \n",
       "79    September 11, 2021          2021  TV-14  145 min   \n",
       "7022     January 1, 2018          1999   TV-G      NaN   \n",
       "2969    February 1, 2020          1999   TV-G      NaN   \n",
       "\n",
       "                                           listed_in  \\\n",
       "78            Comedies, Dramas, International Movies   \n",
       "79            Comedies, Dramas, International Movies   \n",
       "7022  Dramas, International Movies, Music & Musicals   \n",
       "2969  Dramas, International Movies, Music & Musicals   \n",
       "\n",
       "                                            description  \n",
       "78    A budding politician has devious plans to rise...  \n",
       "79    A budding politician has devious plans to rise...  \n",
       "7022  A scheming matriarch plots to cut off her disa...  \n",
       "2969  A scheming matriarch plots to cut off her disa...  "
      ]
     },
     "execution_count": 18,
     "metadata": {},
     "output_type": "execute_result"
    }
   ],
   "source": [
    "df_duplicates = df_titles[df_titles[\"description\"].duplicated(keep=False)]\n",
    "\n",
    "df_duplicates = df_duplicates.drop([\"title\", \"show_id\"], axis = 1)\n",
    "\n",
    "df_duplicates.sort_values(\"description\").head(4)"
   ]
  },
  {
   "cell_type": "code",
   "execution_count": 19,
   "metadata": {},
   "outputs": [
    {
     "data": {
      "text/plain": [
       "10"
      ]
     },
     "execution_count": 19,
     "metadata": {},
     "output_type": "execute_result"
    }
   ],
   "source": [
    "df_duplicates.duplicated().sum()"
   ]
  },
  {
   "cell_type": "markdown",
   "metadata": {},
   "source": [
    "Vemos que no conseguimos el resultado que esperábamos. Sin embargo, analizando la propia tabla vemos que esto ocurre porque hay algunos valores donde hay nulos, los cuales no aparecen en sus duplicados. Esto hace que la comparación sea False y aparezca como si fueran diferentes. Habría que considerar si podemos simplemente eliminar los nulos o si podrían ser sustituidos."
   ]
  },
  {
   "cell_type": "markdown",
   "metadata": {},
   "source": [
    "#### Análisis "
   ]
  },
  {
   "cell_type": "markdown",
   "metadata": {},
   "source": [
    "Sabiendo que en este caso que la columna de género representa más bien las categorías o géneros bajo los cuales el título eastá clasificado, lo mejor sería separar cada género y luego contar. De esta forma tendremos una visión más adecuada de esta métrica."
   ]
  },
  {
   "cell_type": "code",
   "execution_count": 20,
   "metadata": {},
   "outputs": [
    {
     "data": {
      "text/plain": [
       "514"
      ]
     },
     "execution_count": 20,
     "metadata": {},
     "output_type": "execute_result"
    }
   ],
   "source": [
    "df_titles[\"listed_in\"].unique().shape[0]"
   ]
  },
  {
   "cell_type": "markdown",
   "metadata": {},
   "source": [
    "Vemos que existen 514 valores únicos de la columna, pero esto no indica que haya 514 géneros, sino 514 combinaciones de estos."
   ]
  },
  {
   "cell_type": "markdown",
   "metadata": {},
   "source": [
    "Algo que sí podemos comprobar es la cantidad de títulos que son películas o series."
   ]
  },
  {
   "cell_type": "code",
   "execution_count": 21,
   "metadata": {},
   "outputs": [
    {
     "name": "stdout",
     "output_type": "stream",
     "text": [
      "['Movie' 'TV Show']\n",
      "\n",
      "Tabla de conteo de tipo de contenido\n",
      "type\n",
      "Movie      6131\n",
      "TV Show    2676\n",
      "Name: count, dtype: int64\n",
      "\n",
      "Tabla de conteo de tipo de contenido (%)\n",
      "type\n",
      "Movie      0.696\n",
      "TV Show    0.304\n",
      "Name: proportion, dtype: float64\n"
     ]
    }
   ],
   "source": [
    "print(df_titles[\"type\"].unique())\n",
    "\n",
    "print(f'\\nTabla de conteo de tipo de contenido\\n{df_titles[\"type\"].value_counts()}')\n",
    "print(f'\\nTabla de conteo de tipo de contenido (%)\\n{df_titles[\"type\"].value_counts(normalize=True).round(3)}')"
   ]
  },
  {
   "cell_type": "markdown",
   "metadata": {},
   "source": [
    "Observamos que hay bastantes más películas que series, lo cual tendría sentido ya que una película dura mucho menos que una serie, por lo que en cantidad hay más películas, pero esto no significa que representen la mayor cantidad de duración total."
   ]
  },
  {
   "cell_type": "markdown",
   "metadata": {},
   "source": [
    "Otro dato que interesaría ver sería el *rating*."
   ]
  },
  {
   "cell_type": "code",
   "execution_count": 22,
   "metadata": {},
   "outputs": [
    {
     "name": "stdout",
     "output_type": "stream",
     "text": [
      "Rating table:\n",
      "rating\n",
      "TV-MA       3207\n",
      "TV-14       2160\n",
      "TV-PG        863\n",
      "R            799\n",
      "PG-13        490\n",
      "TV-Y7        334\n",
      "TV-Y         307\n",
      "PG           287\n",
      "TV-G         220\n",
      "NR            80\n",
      "G             41\n",
      "TV-Y7-FV       6\n",
      "NC-17          3\n",
      "UR             3\n",
      "74 min         1\n",
      "84 min         1\n",
      "66 min         1\n",
      "Name: count, dtype: int64\n",
      "\n",
      "Rating table (%):\n",
      "rating\n",
      "TV-MA       0.364\n",
      "TV-14       0.245\n",
      "TV-PG       0.098\n",
      "R           0.091\n",
      "PG-13       0.056\n",
      "TV-Y7       0.038\n",
      "TV-Y        0.035\n",
      "PG          0.033\n",
      "TV-G        0.025\n",
      "NR          0.009\n",
      "G           0.005\n",
      "TV-Y7-FV    0.001\n",
      "NC-17       0.000\n",
      "UR          0.000\n",
      "74 min      0.000\n",
      "84 min      0.000\n",
      "66 min      0.000\n",
      "Name: proportion, dtype: float64\n"
     ]
    }
   ],
   "source": [
    "print(f'Rating table:\\n{df_titles[\"rating\"].value_counts()}')\n",
    "\n",
    "print(f'\\nRating table (%):\\n{df_titles[\"rating\"].value_counts(normalize = True).round(3)}')"
   ]
  },
  {
   "cell_type": "markdown",
   "metadata": {},
   "source": [
    "Observamos que el contenido con más títulos es aquel con un *rating* de TV-MA (36.4%). Esto son títulos para mayores de 17 años, por lo que podríamos decir que Netflix es una plataforma más orientada a un público adulto. "
   ]
  },
  {
   "cell_type": "markdown",
   "metadata": {},
   "source": [
    "## **Unión de datos**"
   ]
  },
  {
   "cell_type": "code",
   "execution_count": 23,
   "metadata": {},
   "outputs": [
    {
     "data": {
      "text/html": [
       "<div>\n",
       "<style scoped>\n",
       "    .dataframe tbody tr th:only-of-type {\n",
       "        vertical-align: middle;\n",
       "    }\n",
       "\n",
       "    .dataframe tbody tr th {\n",
       "        vertical-align: top;\n",
       "    }\n",
       "\n",
       "    .dataframe thead th {\n",
       "        text-align: right;\n",
       "    }\n",
       "</style>\n",
       "<table border=\"1\" class=\"dataframe\">\n",
       "  <thead>\n",
       "    <tr style=\"text-align: right;\">\n",
       "      <th></th>\n",
       "      <th>Title</th>\n",
       "      <th>Genre</th>\n",
       "      <th>Premiere</th>\n",
       "      <th>Runtime</th>\n",
       "      <th>IMDB Score</th>\n",
       "      <th>Language</th>\n",
       "    </tr>\n",
       "  </thead>\n",
       "  <tbody>\n",
       "    <tr>\n",
       "      <th>0</th>\n",
       "      <td>Enter the Anime</td>\n",
       "      <td>Documentary</td>\n",
       "      <td>August 5, 2019</td>\n",
       "      <td>58</td>\n",
       "      <td>2.5</td>\n",
       "      <td>English/Japanese</td>\n",
       "    </tr>\n",
       "    <tr>\n",
       "      <th>1</th>\n",
       "      <td>Dark Forces</td>\n",
       "      <td>Thriller</td>\n",
       "      <td>August 21, 2020</td>\n",
       "      <td>81</td>\n",
       "      <td>2.6</td>\n",
       "      <td>Spanish</td>\n",
       "    </tr>\n",
       "    <tr>\n",
       "      <th>2</th>\n",
       "      <td>The App</td>\n",
       "      <td>Science fiction/Drama</td>\n",
       "      <td>December 26, 2019</td>\n",
       "      <td>79</td>\n",
       "      <td>2.6</td>\n",
       "      <td>Italian</td>\n",
       "    </tr>\n",
       "  </tbody>\n",
       "</table>\n",
       "</div>"
      ],
      "text/plain": [
       "             Title                  Genre           Premiere  Runtime  \\\n",
       "0  Enter the Anime            Documentary     August 5, 2019       58   \n",
       "1      Dark Forces               Thriller    August 21, 2020       81   \n",
       "2          The App  Science fiction/Drama  December 26, 2019       79   \n",
       "\n",
       "   IMDB Score          Language  \n",
       "0         2.5  English/Japanese  \n",
       "1         2.6           Spanish  \n",
       "2         2.6           Italian  "
      ]
     },
     "metadata": {},
     "output_type": "display_data"
    },
    {
     "name": "stdout",
     "output_type": "stream",
     "text": [
      "\n",
      "\n"
     ]
    },
    {
     "data": {
      "text/html": [
       "<div>\n",
       "<style scoped>\n",
       "    .dataframe tbody tr th:only-of-type {\n",
       "        vertical-align: middle;\n",
       "    }\n",
       "\n",
       "    .dataframe tbody tr th {\n",
       "        vertical-align: top;\n",
       "    }\n",
       "\n",
       "    .dataframe thead th {\n",
       "        text-align: right;\n",
       "    }\n",
       "</style>\n",
       "<table border=\"1\" class=\"dataframe\">\n",
       "  <thead>\n",
       "    <tr style=\"text-align: right;\">\n",
       "      <th></th>\n",
       "      <th>show_id</th>\n",
       "      <th>type</th>\n",
       "      <th>title</th>\n",
       "      <th>director</th>\n",
       "      <th>cast</th>\n",
       "      <th>country</th>\n",
       "      <th>date_added</th>\n",
       "      <th>release_year</th>\n",
       "      <th>rating</th>\n",
       "      <th>duration</th>\n",
       "      <th>listed_in</th>\n",
       "      <th>description</th>\n",
       "    </tr>\n",
       "  </thead>\n",
       "  <tbody>\n",
       "    <tr>\n",
       "      <th>0</th>\n",
       "      <td>s1</td>\n",
       "      <td>Movie</td>\n",
       "      <td>Dick Johnson Is Dead</td>\n",
       "      <td>Kirsten Johnson</td>\n",
       "      <td>NaN</td>\n",
       "      <td>United States</td>\n",
       "      <td>September 25, 2021</td>\n",
       "      <td>2020</td>\n",
       "      <td>PG-13</td>\n",
       "      <td>90 min</td>\n",
       "      <td>Documentaries</td>\n",
       "      <td>As her father nears the end of his life, filmm...</td>\n",
       "    </tr>\n",
       "    <tr>\n",
       "      <th>1</th>\n",
       "      <td>s2</td>\n",
       "      <td>TV Show</td>\n",
       "      <td>Blood &amp; Water</td>\n",
       "      <td>NaN</td>\n",
       "      <td>Ama Qamata, Khosi Ngema, Gail Mabalane, Thaban...</td>\n",
       "      <td>South Africa</td>\n",
       "      <td>September 24, 2021</td>\n",
       "      <td>2021</td>\n",
       "      <td>TV-MA</td>\n",
       "      <td>2 Seasons</td>\n",
       "      <td>International TV Shows, TV Dramas, TV Mysteries</td>\n",
       "      <td>After crossing paths at a party, a Cape Town t...</td>\n",
       "    </tr>\n",
       "    <tr>\n",
       "      <th>2</th>\n",
       "      <td>s3</td>\n",
       "      <td>TV Show</td>\n",
       "      <td>Ganglands</td>\n",
       "      <td>Julien Leclercq</td>\n",
       "      <td>Sami Bouajila, Tracy Gotoas, Samuel Jouy, Nabi...</td>\n",
       "      <td>NaN</td>\n",
       "      <td>September 24, 2021</td>\n",
       "      <td>2021</td>\n",
       "      <td>TV-MA</td>\n",
       "      <td>NaN</td>\n",
       "      <td>Crime TV Shows, International TV Shows, TV Act...</td>\n",
       "      <td>To protect his family from a powerful drug lor...</td>\n",
       "    </tr>\n",
       "  </tbody>\n",
       "</table>\n",
       "</div>"
      ],
      "text/plain": [
       "  show_id     type                 title         director  \\\n",
       "0      s1    Movie  Dick Johnson Is Dead  Kirsten Johnson   \n",
       "1      s2  TV Show         Blood & Water              NaN   \n",
       "2      s3  TV Show             Ganglands  Julien Leclercq   \n",
       "\n",
       "                                                cast        country  \\\n",
       "0                                                NaN  United States   \n",
       "1  Ama Qamata, Khosi Ngema, Gail Mabalane, Thaban...   South Africa   \n",
       "2  Sami Bouajila, Tracy Gotoas, Samuel Jouy, Nabi...            NaN   \n",
       "\n",
       "           date_added  release_year rating   duration  \\\n",
       "0  September 25, 2021          2020  PG-13     90 min   \n",
       "1  September 24, 2021          2021  TV-MA  2 Seasons   \n",
       "2  September 24, 2021          2021  TV-MA        NaN   \n",
       "\n",
       "                                           listed_in  \\\n",
       "0                                      Documentaries   \n",
       "1    International TV Shows, TV Dramas, TV Mysteries   \n",
       "2  Crime TV Shows, International TV Shows, TV Act...   \n",
       "\n",
       "                                         description  \n",
       "0  As her father nears the end of his life, filmm...  \n",
       "1  After crossing paths at a party, a Cape Town t...  \n",
       "2  To protect his family from a powerful drug lor...  "
      ]
     },
     "metadata": {},
     "output_type": "display_data"
    }
   ],
   "source": [
    "display(df_og.head(3))\n",
    "print(\"\\n\")\n",
    "display(df_titles.head(3))"
   ]
  },
  {
   "cell_type": "code",
   "execution_count": 24,
   "metadata": {},
   "outputs": [
    {
     "data": {
      "text/plain": [
       "'Blood & Water'"
      ]
     },
     "execution_count": 24,
     "metadata": {},
     "output_type": "execute_result"
    }
   ],
   "source": [
    "df_titles[df_titles[\"type\"]==\"TV Show\"].head(3).iloc[0,2]"
   ]
  },
  {
   "cell_type": "code",
   "execution_count": 25,
   "metadata": {},
   "outputs": [
    {
     "data": {
      "text/html": [
       "<div>\n",
       "<style scoped>\n",
       "    .dataframe tbody tr th:only-of-type {\n",
       "        vertical-align: middle;\n",
       "    }\n",
       "\n",
       "    .dataframe tbody tr th {\n",
       "        vertical-align: top;\n",
       "    }\n",
       "\n",
       "    .dataframe thead th {\n",
       "        text-align: right;\n",
       "    }\n",
       "</style>\n",
       "<table border=\"1\" class=\"dataframe\">\n",
       "  <thead>\n",
       "    <tr style=\"text-align: right;\">\n",
       "      <th></th>\n",
       "      <th>Title</th>\n",
       "      <th>Genre</th>\n",
       "      <th>Premiere</th>\n",
       "      <th>Runtime</th>\n",
       "      <th>IMDB Score</th>\n",
       "      <th>Language</th>\n",
       "      <th>show_id</th>\n",
       "      <th>type</th>\n",
       "      <th>title</th>\n",
       "      <th>director</th>\n",
       "      <th>cast</th>\n",
       "      <th>country</th>\n",
       "      <th>date_added</th>\n",
       "      <th>release_year</th>\n",
       "      <th>rating</th>\n",
       "      <th>duration</th>\n",
       "      <th>listed_in</th>\n",
       "      <th>description</th>\n",
       "    </tr>\n",
       "  </thead>\n",
       "  <tbody>\n",
       "    <tr>\n",
       "      <th>0</th>\n",
       "      <td>Enter the Anime</td>\n",
       "      <td>Documentary</td>\n",
       "      <td>August 5, 2019</td>\n",
       "      <td>58.0</td>\n",
       "      <td>2.5</td>\n",
       "      <td>English/Japanese</td>\n",
       "      <td>s3624</td>\n",
       "      <td>Movie</td>\n",
       "      <td>Enter the Anime</td>\n",
       "      <td>Alex Burunova</td>\n",
       "      <td>Kozo Morishita, Yoko Takahashi, Shinji Aramaki...</td>\n",
       "      <td>United States, Japan</td>\n",
       "      <td>August 5, 2019</td>\n",
       "      <td>2019</td>\n",
       "      <td>TV-MA</td>\n",
       "      <td>59 min</td>\n",
       "      <td>Documentaries, International Movies</td>\n",
       "      <td>What is anime? Through deep-dives with notable...</td>\n",
       "    </tr>\n",
       "    <tr>\n",
       "      <th>1</th>\n",
       "      <td>Dark Forces</td>\n",
       "      <td>Thriller</td>\n",
       "      <td>August 21, 2020</td>\n",
       "      <td>81.0</td>\n",
       "      <td>2.6</td>\n",
       "      <td>Spanish</td>\n",
       "      <td>s2105</td>\n",
       "      <td>Movie</td>\n",
       "      <td>Dark Forces</td>\n",
       "      <td>Bernardo Arellano</td>\n",
       "      <td>Tenoch Huerta, Eréndira Ibarra, Dale Carley, A...</td>\n",
       "      <td>Mexico</td>\n",
       "      <td>August 21, 2020</td>\n",
       "      <td>2020</td>\n",
       "      <td>TV-MA</td>\n",
       "      <td>81 min</td>\n",
       "      <td>Horror Movies, Independent Movies, Internation...</td>\n",
       "      <td>In search of his sister, a renegade criminal s...</td>\n",
       "    </tr>\n",
       "    <tr>\n",
       "      <th>2</th>\n",
       "      <td>The App</td>\n",
       "      <td>Science fiction/Drama</td>\n",
       "      <td>December 26, 2019</td>\n",
       "      <td>79.0</td>\n",
       "      <td>2.6</td>\n",
       "      <td>Italian</td>\n",
       "      <td>s3095</td>\n",
       "      <td>Movie</td>\n",
       "      <td>The App</td>\n",
       "      <td>Elisa Fuksas</td>\n",
       "      <td>Vincenzo Crea, Jessica Cressy, Greta Scarano, ...</td>\n",
       "      <td>Italy</td>\n",
       "      <td>December 26, 2019</td>\n",
       "      <td>2019</td>\n",
       "      <td>TV-MA</td>\n",
       "      <td>79 min</td>\n",
       "      <td>Dramas, Independent Movies, International Movies</td>\n",
       "      <td>While in Rome to shoot his first movie, actor ...</td>\n",
       "    </tr>\n",
       "  </tbody>\n",
       "</table>\n",
       "</div>"
      ],
      "text/plain": [
       "             Title                  Genre           Premiere  Runtime  \\\n",
       "0  Enter the Anime            Documentary     August 5, 2019     58.0   \n",
       "1      Dark Forces               Thriller    August 21, 2020     81.0   \n",
       "2          The App  Science fiction/Drama  December 26, 2019     79.0   \n",
       "\n",
       "   IMDB Score          Language show_id   type            title  \\\n",
       "0         2.5  English/Japanese   s3624  Movie  Enter the Anime   \n",
       "1         2.6           Spanish   s2105  Movie      Dark Forces   \n",
       "2         2.6           Italian   s3095  Movie          The App   \n",
       "\n",
       "            director                                               cast  \\\n",
       "0      Alex Burunova  Kozo Morishita, Yoko Takahashi, Shinji Aramaki...   \n",
       "1  Bernardo Arellano  Tenoch Huerta, Eréndira Ibarra, Dale Carley, A...   \n",
       "2       Elisa Fuksas  Vincenzo Crea, Jessica Cressy, Greta Scarano, ...   \n",
       "\n",
       "                country         date_added  release_year rating duration  \\\n",
       "0  United States, Japan     August 5, 2019          2019  TV-MA   59 min   \n",
       "1                Mexico    August 21, 2020          2020  TV-MA   81 min   \n",
       "2                 Italy  December 26, 2019          2019  TV-MA   79 min   \n",
       "\n",
       "                                           listed_in  \\\n",
       "0                Documentaries, International Movies   \n",
       "1  Horror Movies, Independent Movies, Internation...   \n",
       "2   Dramas, Independent Movies, International Movies   \n",
       "\n",
       "                                         description  \n",
       "0  What is anime? Through deep-dives with notable...  \n",
       "1  In search of his sister, a renegade criminal s...  \n",
       "2  While in Rome to shoot his first movie, actor ...  "
      ]
     },
     "execution_count": 25,
     "metadata": {},
     "output_type": "execute_result"
    }
   ],
   "source": [
    "df_merged = df_og.merge(df_titles, how = 'outer', left_on = \"Title\", right_on = \"title\")\n",
    "df_merged.head(3)"
   ]
  },
  {
   "cell_type": "code",
   "execution_count": 26,
   "metadata": {},
   "outputs": [],
   "source": [
    "df_merged = df_merged.drop(columns = [\"Title\", \"Runtime\", \"Genre\", \"Premiere\"])"
   ]
  },
  {
   "cell_type": "code",
   "execution_count": 27,
   "metadata": {},
   "outputs": [
    {
     "data": {
      "text/html": [
       "<div>\n",
       "<style scoped>\n",
       "    .dataframe tbody tr th:only-of-type {\n",
       "        vertical-align: middle;\n",
       "    }\n",
       "\n",
       "    .dataframe tbody tr th {\n",
       "        vertical-align: top;\n",
       "    }\n",
       "\n",
       "    .dataframe thead th {\n",
       "        text-align: right;\n",
       "    }\n",
       "</style>\n",
       "<table border=\"1\" class=\"dataframe\">\n",
       "  <thead>\n",
       "    <tr style=\"text-align: right;\">\n",
       "      <th></th>\n",
       "      <th>IMDB Score</th>\n",
       "      <th>Language</th>\n",
       "      <th>show_id</th>\n",
       "      <th>type</th>\n",
       "      <th>title</th>\n",
       "      <th>director</th>\n",
       "      <th>cast</th>\n",
       "      <th>country</th>\n",
       "      <th>date_added</th>\n",
       "      <th>release_year</th>\n",
       "      <th>rating</th>\n",
       "      <th>duration</th>\n",
       "      <th>listed_in</th>\n",
       "      <th>description</th>\n",
       "    </tr>\n",
       "  </thead>\n",
       "  <tbody>\n",
       "    <tr>\n",
       "      <th>0</th>\n",
       "      <td>2.5</td>\n",
       "      <td>English/Japanese</td>\n",
       "      <td>s3624</td>\n",
       "      <td>Movie</td>\n",
       "      <td>Enter the Anime</td>\n",
       "      <td>Alex Burunova</td>\n",
       "      <td>Kozo Morishita, Yoko Takahashi, Shinji Aramaki...</td>\n",
       "      <td>United States, Japan</td>\n",
       "      <td>August 5, 2019</td>\n",
       "      <td>2019</td>\n",
       "      <td>TV-MA</td>\n",
       "      <td>59 min</td>\n",
       "      <td>Documentaries, International Movies</td>\n",
       "      <td>What is anime? Through deep-dives with notable...</td>\n",
       "    </tr>\n",
       "    <tr>\n",
       "      <th>1</th>\n",
       "      <td>2.6</td>\n",
       "      <td>Spanish</td>\n",
       "      <td>s2105</td>\n",
       "      <td>Movie</td>\n",
       "      <td>Dark Forces</td>\n",
       "      <td>Bernardo Arellano</td>\n",
       "      <td>Tenoch Huerta, Eréndira Ibarra, Dale Carley, A...</td>\n",
       "      <td>Mexico</td>\n",
       "      <td>August 21, 2020</td>\n",
       "      <td>2020</td>\n",
       "      <td>TV-MA</td>\n",
       "      <td>81 min</td>\n",
       "      <td>Horror Movies, Independent Movies, Internation...</td>\n",
       "      <td>In search of his sister, a renegade criminal s...</td>\n",
       "    </tr>\n",
       "    <tr>\n",
       "      <th>2</th>\n",
       "      <td>2.6</td>\n",
       "      <td>Italian</td>\n",
       "      <td>s3095</td>\n",
       "      <td>Movie</td>\n",
       "      <td>The App</td>\n",
       "      <td>Elisa Fuksas</td>\n",
       "      <td>Vincenzo Crea, Jessica Cressy, Greta Scarano, ...</td>\n",
       "      <td>Italy</td>\n",
       "      <td>December 26, 2019</td>\n",
       "      <td>2019</td>\n",
       "      <td>TV-MA</td>\n",
       "      <td>79 min</td>\n",
       "      <td>Dramas, Independent Movies, International Movies</td>\n",
       "      <td>While in Rome to shoot his first movie, actor ...</td>\n",
       "    </tr>\n",
       "    <tr>\n",
       "      <th>3</th>\n",
       "      <td>3.2</td>\n",
       "      <td>English</td>\n",
       "      <td>s5074</td>\n",
       "      <td>Movie</td>\n",
       "      <td>The Open House</td>\n",
       "      <td>Matt Angel, Suzanne Coote</td>\n",
       "      <td>Dylan Minnette, Piercey Dalton, Patricia Bethu...</td>\n",
       "      <td>Canada, United States</td>\n",
       "      <td>January 19, 2018</td>\n",
       "      <td>2018</td>\n",
       "      <td>TV-MA</td>\n",
       "      <td>NaN</td>\n",
       "      <td>Horror Movies, Thrillers</td>\n",
       "      <td>Following a tragedy, a mother and her teen son...</td>\n",
       "    </tr>\n",
       "  </tbody>\n",
       "</table>\n",
       "</div>"
      ],
      "text/plain": [
       "   IMDB Score          Language show_id   type            title  \\\n",
       "0         2.5  English/Japanese   s3624  Movie  Enter the Anime   \n",
       "1         2.6           Spanish   s2105  Movie      Dark Forces   \n",
       "2         2.6           Italian   s3095  Movie          The App   \n",
       "3         3.2           English   s5074  Movie   The Open House   \n",
       "\n",
       "                    director  \\\n",
       "0              Alex Burunova   \n",
       "1          Bernardo Arellano   \n",
       "2               Elisa Fuksas   \n",
       "3  Matt Angel, Suzanne Coote   \n",
       "\n",
       "                                                cast                country  \\\n",
       "0  Kozo Morishita, Yoko Takahashi, Shinji Aramaki...   United States, Japan   \n",
       "1  Tenoch Huerta, Eréndira Ibarra, Dale Carley, A...                 Mexico   \n",
       "2  Vincenzo Crea, Jessica Cressy, Greta Scarano, ...                  Italy   \n",
       "3  Dylan Minnette, Piercey Dalton, Patricia Bethu...  Canada, United States   \n",
       "\n",
       "          date_added  release_year rating duration  \\\n",
       "0     August 5, 2019          2019  TV-MA   59 min   \n",
       "1    August 21, 2020          2020  TV-MA   81 min   \n",
       "2  December 26, 2019          2019  TV-MA   79 min   \n",
       "3   January 19, 2018          2018  TV-MA      NaN   \n",
       "\n",
       "                                           listed_in  \\\n",
       "0                Documentaries, International Movies   \n",
       "1  Horror Movies, Independent Movies, Internation...   \n",
       "2   Dramas, Independent Movies, International Movies   \n",
       "3                           Horror Movies, Thrillers   \n",
       "\n",
       "                                         description  \n",
       "0  What is anime? Through deep-dives with notable...  \n",
       "1  In search of his sister, a renegade criminal s...  \n",
       "2  While in Rome to shoot his first movie, actor ...  \n",
       "3  Following a tragedy, a mother and her teen son...  "
      ]
     },
     "execution_count": 27,
     "metadata": {},
     "output_type": "execute_result"
    }
   ],
   "source": [
    "df_merged.head(4)"
   ]
  },
  {
   "cell_type": "markdown",
   "metadata": {},
   "source": [
    "Se ha usado un ``merge`` de tipo *outer*, lo cual nos permite juntar todos los valores de ambos datafrime y juntando aquellos que se repiten. Esto es porque nos interesa que se incluyan todos los títulos pero no queremos que aparezcan duplicados. Además luego se han eliminado aquellas columnas de datos repetidos, concretamente los correspondientes al dataframe de los originales ya que es más pequeño, lo cual nos daría muchos valores nulos correspondientes a los otros títulos no existentes en los originales."
   ]
  },
  {
   "cell_type": "markdown",
   "metadata": {},
   "source": [
    "## Uso de ``loc`` e ``iloc``"
   ]
  },
  {
   "cell_type": "markdown",
   "metadata": {},
   "source": [
    "### Fitrado de datos con ``loc``"
   ]
  },
  {
   "cell_type": "markdown",
   "metadata": {},
   "source": [
    "Selecciona todas las filas donde el tipo de contenido sea “Movie”."
   ]
  },
  {
   "cell_type": "code",
   "execution_count": 28,
   "metadata": {},
   "outputs": [
    {
     "data": {
      "text/html": [
       "<div>\n",
       "<style scoped>\n",
       "    .dataframe tbody tr th:only-of-type {\n",
       "        vertical-align: middle;\n",
       "    }\n",
       "\n",
       "    .dataframe tbody tr th {\n",
       "        vertical-align: top;\n",
       "    }\n",
       "\n",
       "    .dataframe thead th {\n",
       "        text-align: right;\n",
       "    }\n",
       "</style>\n",
       "<table border=\"1\" class=\"dataframe\">\n",
       "  <thead>\n",
       "    <tr style=\"text-align: right;\">\n",
       "      <th></th>\n",
       "      <th>IMDB Score</th>\n",
       "      <th>Language</th>\n",
       "      <th>show_id</th>\n",
       "      <th>type</th>\n",
       "      <th>title</th>\n",
       "      <th>director</th>\n",
       "      <th>cast</th>\n",
       "      <th>country</th>\n",
       "      <th>date_added</th>\n",
       "      <th>release_year</th>\n",
       "      <th>rating</th>\n",
       "      <th>duration</th>\n",
       "      <th>listed_in</th>\n",
       "      <th>description</th>\n",
       "    </tr>\n",
       "  </thead>\n",
       "  <tbody>\n",
       "    <tr>\n",
       "      <th>0</th>\n",
       "      <td>2.5</td>\n",
       "      <td>English/Japanese</td>\n",
       "      <td>s3624</td>\n",
       "      <td>Movie</td>\n",
       "      <td>Enter the Anime</td>\n",
       "      <td>Alex Burunova</td>\n",
       "      <td>Kozo Morishita, Yoko Takahashi, Shinji Aramaki...</td>\n",
       "      <td>United States, Japan</td>\n",
       "      <td>August 5, 2019</td>\n",
       "      <td>2019</td>\n",
       "      <td>TV-MA</td>\n",
       "      <td>59 min</td>\n",
       "      <td>Documentaries, International Movies</td>\n",
       "      <td>What is anime? Through deep-dives with notable...</td>\n",
       "    </tr>\n",
       "    <tr>\n",
       "      <th>1</th>\n",
       "      <td>2.6</td>\n",
       "      <td>Spanish</td>\n",
       "      <td>s2105</td>\n",
       "      <td>Movie</td>\n",
       "      <td>Dark Forces</td>\n",
       "      <td>Bernardo Arellano</td>\n",
       "      <td>Tenoch Huerta, Eréndira Ibarra, Dale Carley, A...</td>\n",
       "      <td>Mexico</td>\n",
       "      <td>August 21, 2020</td>\n",
       "      <td>2020</td>\n",
       "      <td>TV-MA</td>\n",
       "      <td>81 min</td>\n",
       "      <td>Horror Movies, Independent Movies, Internation...</td>\n",
       "      <td>In search of his sister, a renegade criminal s...</td>\n",
       "    </tr>\n",
       "    <tr>\n",
       "      <th>2</th>\n",
       "      <td>2.6</td>\n",
       "      <td>Italian</td>\n",
       "      <td>s3095</td>\n",
       "      <td>Movie</td>\n",
       "      <td>The App</td>\n",
       "      <td>Elisa Fuksas</td>\n",
       "      <td>Vincenzo Crea, Jessica Cressy, Greta Scarano, ...</td>\n",
       "      <td>Italy</td>\n",
       "      <td>December 26, 2019</td>\n",
       "      <td>2019</td>\n",
       "      <td>TV-MA</td>\n",
       "      <td>79 min</td>\n",
       "      <td>Dramas, Independent Movies, International Movies</td>\n",
       "      <td>While in Rome to shoot his first movie, actor ...</td>\n",
       "    </tr>\n",
       "    <tr>\n",
       "      <th>3</th>\n",
       "      <td>3.2</td>\n",
       "      <td>English</td>\n",
       "      <td>s5074</td>\n",
       "      <td>Movie</td>\n",
       "      <td>The Open House</td>\n",
       "      <td>Matt Angel, Suzanne Coote</td>\n",
       "      <td>Dylan Minnette, Piercey Dalton, Patricia Bethu...</td>\n",
       "      <td>Canada, United States</td>\n",
       "      <td>January 19, 2018</td>\n",
       "      <td>2018</td>\n",
       "      <td>TV-MA</td>\n",
       "      <td>NaN</td>\n",
       "      <td>Horror Movies, Thrillers</td>\n",
       "      <td>Following a tragedy, a mother and her teen son...</td>\n",
       "    </tr>\n",
       "    <tr>\n",
       "      <th>4</th>\n",
       "      <td>3.4</td>\n",
       "      <td>Hindi</td>\n",
       "      <td>s1778</td>\n",
       "      <td>Movie</td>\n",
       "      <td>Kaali Khuhi</td>\n",
       "      <td>Terrie Samundra</td>\n",
       "      <td>Shabana Azmi, Leela Samson, Sanjeeda Sheikh, S...</td>\n",
       "      <td>India</td>\n",
       "      <td>October 30, 2020</td>\n",
       "      <td>2020</td>\n",
       "      <td>TV-14</td>\n",
       "      <td>NaN</td>\n",
       "      <td>Horror Movies, International Movies</td>\n",
       "      <td>When a restless spirit curses a village that h...</td>\n",
       "    </tr>\n",
       "  </tbody>\n",
       "</table>\n",
       "</div>"
      ],
      "text/plain": [
       "   IMDB Score          Language show_id   type            title  \\\n",
       "0         2.5  English/Japanese   s3624  Movie  Enter the Anime   \n",
       "1         2.6           Spanish   s2105  Movie      Dark Forces   \n",
       "2         2.6           Italian   s3095  Movie          The App   \n",
       "3         3.2           English   s5074  Movie   The Open House   \n",
       "4         3.4             Hindi   s1778  Movie      Kaali Khuhi   \n",
       "\n",
       "                    director  \\\n",
       "0              Alex Burunova   \n",
       "1          Bernardo Arellano   \n",
       "2               Elisa Fuksas   \n",
       "3  Matt Angel, Suzanne Coote   \n",
       "4            Terrie Samundra   \n",
       "\n",
       "                                                cast                country  \\\n",
       "0  Kozo Morishita, Yoko Takahashi, Shinji Aramaki...   United States, Japan   \n",
       "1  Tenoch Huerta, Eréndira Ibarra, Dale Carley, A...                 Mexico   \n",
       "2  Vincenzo Crea, Jessica Cressy, Greta Scarano, ...                  Italy   \n",
       "3  Dylan Minnette, Piercey Dalton, Patricia Bethu...  Canada, United States   \n",
       "4  Shabana Azmi, Leela Samson, Sanjeeda Sheikh, S...                  India   \n",
       "\n",
       "          date_added  release_year rating duration  \\\n",
       "0     August 5, 2019          2019  TV-MA   59 min   \n",
       "1    August 21, 2020          2020  TV-MA   81 min   \n",
       "2  December 26, 2019          2019  TV-MA   79 min   \n",
       "3   January 19, 2018          2018  TV-MA      NaN   \n",
       "4   October 30, 2020          2020  TV-14      NaN   \n",
       "\n",
       "                                           listed_in  \\\n",
       "0                Documentaries, International Movies   \n",
       "1  Horror Movies, Independent Movies, Internation...   \n",
       "2   Dramas, Independent Movies, International Movies   \n",
       "3                           Horror Movies, Thrillers   \n",
       "4                Horror Movies, International Movies   \n",
       "\n",
       "                                         description  \n",
       "0  What is anime? Through deep-dives with notable...  \n",
       "1  In search of his sister, a renegade criminal s...  \n",
       "2  While in Rome to shoot his first movie, actor ...  \n",
       "3  Following a tragedy, a mother and her teen son...  \n",
       "4  When a restless spirit curses a village that h...  "
      ]
     },
     "execution_count": 28,
     "metadata": {},
     "output_type": "execute_result"
    }
   ],
   "source": [
    "df_merged.loc[df_merged[\"type\"]==\"Movie\", :].head(5)"
   ]
  },
  {
   "cell_type": "markdown",
   "metadata": {},
   "source": [
    "Muestra solo los títulos (title) y la duración (duration) de todos los contenidos que sean de tipo “TV Show”."
   ]
  },
  {
   "cell_type": "code",
   "execution_count": 29,
   "metadata": {},
   "outputs": [
    {
     "data": {
      "text/html": [
       "<div>\n",
       "<style scoped>\n",
       "    .dataframe tbody tr th:only-of-type {\n",
       "        vertical-align: middle;\n",
       "    }\n",
       "\n",
       "    .dataframe tbody tr th {\n",
       "        vertical-align: top;\n",
       "    }\n",
       "\n",
       "    .dataframe thead th {\n",
       "        text-align: right;\n",
       "    }\n",
       "</style>\n",
       "<table border=\"1\" class=\"dataframe\">\n",
       "  <thead>\n",
       "    <tr style=\"text-align: right;\">\n",
       "      <th></th>\n",
       "      <th>title</th>\n",
       "      <th>duration</th>\n",
       "    </tr>\n",
       "  </thead>\n",
       "  <tbody>\n",
       "    <tr>\n",
       "      <th>513</th>\n",
       "      <td>Blood &amp; Water</td>\n",
       "      <td>2 Seasons</td>\n",
       "    </tr>\n",
       "    <tr>\n",
       "      <th>514</th>\n",
       "      <td>Ganglands</td>\n",
       "      <td>NaN</td>\n",
       "    </tr>\n",
       "    <tr>\n",
       "      <th>515</th>\n",
       "      <td>Jailbirds New Orleans</td>\n",
       "      <td>NaN</td>\n",
       "    </tr>\n",
       "    <tr>\n",
       "      <th>516</th>\n",
       "      <td>Kota Factory</td>\n",
       "      <td>2 Seasons</td>\n",
       "    </tr>\n",
       "    <tr>\n",
       "      <th>517</th>\n",
       "      <td>Midnight Mass</td>\n",
       "      <td>NaN</td>\n",
       "    </tr>\n",
       "  </tbody>\n",
       "</table>\n",
       "</div>"
      ],
      "text/plain": [
       "                     title   duration\n",
       "513          Blood & Water  2 Seasons\n",
       "514              Ganglands        NaN\n",
       "515  Jailbirds New Orleans        NaN\n",
       "516           Kota Factory  2 Seasons\n",
       "517          Midnight Mass        NaN"
      ]
     },
     "execution_count": 29,
     "metadata": {},
     "output_type": "execute_result"
    }
   ],
   "source": [
    "df_merged.loc[df_merged[\"type\"]==\"TV Show\", [\"title\", \"duration\"]].head()"
   ]
  },
  {
   "cell_type": "markdown",
   "metadata": {},
   "source": [
    "Selecciona todas las filas donde el país sea “United States”."
   ]
  },
  {
   "cell_type": "code",
   "execution_count": 30,
   "metadata": {},
   "outputs": [
    {
     "data": {
      "text/html": [
       "<div>\n",
       "<style scoped>\n",
       "    .dataframe tbody tr th:only-of-type {\n",
       "        vertical-align: middle;\n",
       "    }\n",
       "\n",
       "    .dataframe tbody tr th {\n",
       "        vertical-align: top;\n",
       "    }\n",
       "\n",
       "    .dataframe thead th {\n",
       "        text-align: right;\n",
       "    }\n",
       "</style>\n",
       "<table border=\"1\" class=\"dataframe\">\n",
       "  <thead>\n",
       "    <tr style=\"text-align: right;\">\n",
       "      <th></th>\n",
       "      <th>IMDB Score</th>\n",
       "      <th>Language</th>\n",
       "      <th>show_id</th>\n",
       "      <th>type</th>\n",
       "      <th>title</th>\n",
       "      <th>director</th>\n",
       "      <th>cast</th>\n",
       "      <th>country</th>\n",
       "      <th>date_added</th>\n",
       "      <th>release_year</th>\n",
       "      <th>rating</th>\n",
       "      <th>duration</th>\n",
       "      <th>listed_in</th>\n",
       "      <th>description</th>\n",
       "    </tr>\n",
       "  </thead>\n",
       "  <tbody>\n",
       "    <tr>\n",
       "      <th>7</th>\n",
       "      <td>3.7</td>\n",
       "      <td>English</td>\n",
       "      <td>s2425</td>\n",
       "      <td>Movie</td>\n",
       "      <td>The Last Days of American Crime</td>\n",
       "      <td>Olivier Megaton</td>\n",
       "      <td>Edgar Ramírez, Michael Pitt, Anna Brewster, Pa...</td>\n",
       "      <td>United States</td>\n",
       "      <td>June 5, 2020</td>\n",
       "      <td>2020</td>\n",
       "      <td>TV-MA</td>\n",
       "      <td>149 min</td>\n",
       "      <td>Action &amp; Adventure, Dramas, Independent Movies</td>\n",
       "      <td>A bank robber joins a plot to commit one final...</td>\n",
       "    </tr>\n",
       "    <tr>\n",
       "      <th>8</th>\n",
       "      <td>3.9</td>\n",
       "      <td>English</td>\n",
       "      <td>s4973</td>\n",
       "      <td>Movie</td>\n",
       "      <td>Paradox</td>\n",
       "      <td>Daryl Hannah</td>\n",
       "      <td>Neil Young, Lukas Nelson, Micah Nelson, Corey ...</td>\n",
       "      <td>United States</td>\n",
       "      <td>March 23, 2018</td>\n",
       "      <td>2018</td>\n",
       "      <td>TV-MA</td>\n",
       "      <td>74 min</td>\n",
       "      <td>Dramas, Independent Movies, Music &amp; Musicals</td>\n",
       "      <td>Neil Young and his band of outlaws sow seeds o...</td>\n",
       "    </tr>\n",
       "    <tr>\n",
       "      <th>13</th>\n",
       "      <td>4.2</td>\n",
       "      <td>English</td>\n",
       "      <td>s5710</td>\n",
       "      <td>Movie</td>\n",
       "      <td>Mercy</td>\n",
       "      <td>Chris Sparling</td>\n",
       "      <td>James Wolk, Caitlin Fitzgerald, Tom Lipinski, ...</td>\n",
       "      <td>United States</td>\n",
       "      <td>November 22, 2016</td>\n",
       "      <td>2016</td>\n",
       "      <td>TV-MA</td>\n",
       "      <td>NaN</td>\n",
       "      <td>Dramas, Thrillers</td>\n",
       "      <td>Two brothers clash with their half-siblings wh...</td>\n",
       "    </tr>\n",
       "    <tr>\n",
       "      <th>16</th>\n",
       "      <td>4.3</td>\n",
       "      <td>English</td>\n",
       "      <td>s2898</td>\n",
       "      <td>Movie</td>\n",
       "      <td>The Last Thing He Wanted</td>\n",
       "      <td>Dee Rees</td>\n",
       "      <td>Anne Hathaway, Ben Affleck, Willem Dafoe, Toby...</td>\n",
       "      <td>United States</td>\n",
       "      <td>February 21, 2020</td>\n",
       "      <td>2020</td>\n",
       "      <td>R</td>\n",
       "      <td>116 min</td>\n",
       "      <td>Dramas, Thrillers</td>\n",
       "      <td>A hard-hitting reporter becomes entangled in t...</td>\n",
       "    </tr>\n",
       "    <tr>\n",
       "      <th>18</th>\n",
       "      <td>4.4</td>\n",
       "      <td>English</td>\n",
       "      <td>s5319</td>\n",
       "      <td>Movie</td>\n",
       "      <td>Death Note</td>\n",
       "      <td>Adam Wingard</td>\n",
       "      <td>Willem Dafoe, Nat Wolff, Lakeith Stanfield, Ma...</td>\n",
       "      <td>United States</td>\n",
       "      <td>August 25, 2017</td>\n",
       "      <td>2017</td>\n",
       "      <td>TV-MA</td>\n",
       "      <td>NaN</td>\n",
       "      <td>Horror Movies, Thrillers</td>\n",
       "      <td>Light Turner finds a supernatural notebook and...</td>\n",
       "    </tr>\n",
       "  </tbody>\n",
       "</table>\n",
       "</div>"
      ],
      "text/plain": [
       "    IMDB Score Language show_id   type                            title  \\\n",
       "7          3.7  English   s2425  Movie  The Last Days of American Crime   \n",
       "8          3.9  English   s4973  Movie                          Paradox   \n",
       "13         4.2  English   s5710  Movie                            Mercy   \n",
       "16         4.3  English   s2898  Movie         The Last Thing He Wanted   \n",
       "18         4.4  English   s5319  Movie                       Death Note   \n",
       "\n",
       "           director                                               cast  \\\n",
       "7   Olivier Megaton  Edgar Ramírez, Michael Pitt, Anna Brewster, Pa...   \n",
       "8      Daryl Hannah  Neil Young, Lukas Nelson, Micah Nelson, Corey ...   \n",
       "13   Chris Sparling  James Wolk, Caitlin Fitzgerald, Tom Lipinski, ...   \n",
       "16         Dee Rees  Anne Hathaway, Ben Affleck, Willem Dafoe, Toby...   \n",
       "18     Adam Wingard  Willem Dafoe, Nat Wolff, Lakeith Stanfield, Ma...   \n",
       "\n",
       "          country         date_added  release_year rating duration  \\\n",
       "7   United States       June 5, 2020          2020  TV-MA  149 min   \n",
       "8   United States     March 23, 2018          2018  TV-MA   74 min   \n",
       "13  United States  November 22, 2016          2016  TV-MA      NaN   \n",
       "16  United States  February 21, 2020          2020      R  116 min   \n",
       "18  United States    August 25, 2017          2017  TV-MA      NaN   \n",
       "\n",
       "                                         listed_in  \\\n",
       "7   Action & Adventure, Dramas, Independent Movies   \n",
       "8     Dramas, Independent Movies, Music & Musicals   \n",
       "13                               Dramas, Thrillers   \n",
       "16                               Dramas, Thrillers   \n",
       "18                        Horror Movies, Thrillers   \n",
       "\n",
       "                                          description  \n",
       "7   A bank robber joins a plot to commit one final...  \n",
       "8   Neil Young and his band of outlaws sow seeds o...  \n",
       "13  Two brothers clash with their half-siblings wh...  \n",
       "16  A hard-hitting reporter becomes entangled in t...  \n",
       "18  Light Turner finds a supernatural notebook and...  "
      ]
     },
     "execution_count": 30,
     "metadata": {},
     "output_type": "execute_result"
    }
   ],
   "source": [
    "df_merged.loc[df_merged[\"country\"]==\"United States\", :].head()"
   ]
  },
  {
   "cell_type": "markdown",
   "metadata": {},
   "source": [
    "Muestra todas las películas (type = “Movie”) y selecciona las columnas title y director."
   ]
  },
  {
   "cell_type": "code",
   "execution_count": 31,
   "metadata": {},
   "outputs": [
    {
     "data": {
      "text/html": [
       "<div>\n",
       "<style scoped>\n",
       "    .dataframe tbody tr th:only-of-type {\n",
       "        vertical-align: middle;\n",
       "    }\n",
       "\n",
       "    .dataframe tbody tr th {\n",
       "        vertical-align: top;\n",
       "    }\n",
       "\n",
       "    .dataframe thead th {\n",
       "        text-align: right;\n",
       "    }\n",
       "</style>\n",
       "<table border=\"1\" class=\"dataframe\">\n",
       "  <thead>\n",
       "    <tr style=\"text-align: right;\">\n",
       "      <th></th>\n",
       "      <th>title</th>\n",
       "      <th>director</th>\n",
       "    </tr>\n",
       "  </thead>\n",
       "  <tbody>\n",
       "    <tr>\n",
       "      <th>0</th>\n",
       "      <td>Enter the Anime</td>\n",
       "      <td>Alex Burunova</td>\n",
       "    </tr>\n",
       "    <tr>\n",
       "      <th>1</th>\n",
       "      <td>Dark Forces</td>\n",
       "      <td>Bernardo Arellano</td>\n",
       "    </tr>\n",
       "    <tr>\n",
       "      <th>2</th>\n",
       "      <td>The App</td>\n",
       "      <td>Elisa Fuksas</td>\n",
       "    </tr>\n",
       "    <tr>\n",
       "      <th>3</th>\n",
       "      <td>The Open House</td>\n",
       "      <td>Matt Angel, Suzanne Coote</td>\n",
       "    </tr>\n",
       "    <tr>\n",
       "      <th>4</th>\n",
       "      <td>Kaali Khuhi</td>\n",
       "      <td>Terrie Samundra</td>\n",
       "    </tr>\n",
       "  </tbody>\n",
       "</table>\n",
       "</div>"
      ],
      "text/plain": [
       "             title                   director\n",
       "0  Enter the Anime              Alex Burunova\n",
       "1      Dark Forces          Bernardo Arellano\n",
       "2          The App               Elisa Fuksas\n",
       "3   The Open House  Matt Angel, Suzanne Coote\n",
       "4      Kaali Khuhi            Terrie Samundra"
      ]
     },
     "execution_count": 31,
     "metadata": {},
     "output_type": "execute_result"
    }
   ],
   "source": [
    "df_merged.loc[df_merged[\"type\"]==\"Movie\", [\"title\", \"director\"]].head()"
   ]
  },
  {
   "cell_type": "markdown",
   "metadata": {},
   "source": [
    "Selecciona los títulos (title) y géneros (listed_in) de todas las producciones lanzadas en 2018."
   ]
  },
  {
   "cell_type": "code",
   "execution_count": 32,
   "metadata": {},
   "outputs": [
    {
     "data": {
      "text/html": [
       "<div>\n",
       "<style scoped>\n",
       "    .dataframe tbody tr th:only-of-type {\n",
       "        vertical-align: middle;\n",
       "    }\n",
       "\n",
       "    .dataframe tbody tr th {\n",
       "        vertical-align: top;\n",
       "    }\n",
       "\n",
       "    .dataframe thead th {\n",
       "        text-align: right;\n",
       "    }\n",
       "</style>\n",
       "<table border=\"1\" class=\"dataframe\">\n",
       "  <thead>\n",
       "    <tr style=\"text-align: right;\">\n",
       "      <th></th>\n",
       "      <th>title</th>\n",
       "      <th>listed_in</th>\n",
       "    </tr>\n",
       "  </thead>\n",
       "  <tbody>\n",
       "    <tr>\n",
       "      <th>3</th>\n",
       "      <td>The Open House</td>\n",
       "      <td>Horror Movies, Thrillers</td>\n",
       "    </tr>\n",
       "    <tr>\n",
       "      <th>8</th>\n",
       "      <td>Paradox</td>\n",
       "      <td>Dramas, Independent Movies, Music &amp; Musicals</td>\n",
       "    </tr>\n",
       "    <tr>\n",
       "      <th>27</th>\n",
       "      <td>5 Star Christmas</td>\n",
       "      <td>Comedies, International Movies</td>\n",
       "    </tr>\n",
       "    <tr>\n",
       "      <th>52</th>\n",
       "      <td>How It Ends</td>\n",
       "      <td>Action &amp; Adventure, Sci-Fi &amp; Fantasy</td>\n",
       "    </tr>\n",
       "    <tr>\n",
       "      <th>59</th>\n",
       "      <td>Dude</td>\n",
       "      <td>Comedies, Dramas, Independent Movies</td>\n",
       "    </tr>\n",
       "  </tbody>\n",
       "</table>\n",
       "</div>"
      ],
      "text/plain": [
       "               title                                     listed_in\n",
       "3     The Open House                      Horror Movies, Thrillers\n",
       "8            Paradox  Dramas, Independent Movies, Music & Musicals\n",
       "27  5 Star Christmas                Comedies, International Movies\n",
       "52       How It Ends          Action & Adventure, Sci-Fi & Fantasy\n",
       "59              Dude          Comedies, Dramas, Independent Movies"
      ]
     },
     "execution_count": 32,
     "metadata": {},
     "output_type": "execute_result"
    }
   ],
   "source": [
    "df_merged.loc[df_merged[\"release_year\"]==2018, [\"title\", \"listed_in\"]].head()"
   ]
  },
  {
   "cell_type": "markdown",
   "metadata": {},
   "source": [
    "Selecciona las filas donde la columna director esté vacía y muestra solo los títulos (title)."
   ]
  },
  {
   "cell_type": "code",
   "execution_count": 33,
   "metadata": {},
   "outputs": [
    {
     "data": {
      "text/html": [
       "<div>\n",
       "<style scoped>\n",
       "    .dataframe tbody tr th:only-of-type {\n",
       "        vertical-align: middle;\n",
       "    }\n",
       "\n",
       "    .dataframe tbody tr th {\n",
       "        vertical-align: top;\n",
       "    }\n",
       "\n",
       "    .dataframe thead th {\n",
       "        text-align: right;\n",
       "    }\n",
       "</style>\n",
       "<table border=\"1\" class=\"dataframe\">\n",
       "  <thead>\n",
       "    <tr style=\"text-align: right;\">\n",
       "      <th></th>\n",
       "      <th>title</th>\n",
       "    </tr>\n",
       "  </thead>\n",
       "  <tbody>\n",
       "    <tr>\n",
       "      <th>6</th>\n",
       "      <td>Leyla Everlasting</td>\n",
       "    </tr>\n",
       "    <tr>\n",
       "      <th>62</th>\n",
       "      <td>American Factory: A Conversation with the Obamas</td>\n",
       "    </tr>\n",
       "    <tr>\n",
       "      <th>64</th>\n",
       "      <td>Father of the Year</td>\n",
       "    </tr>\n",
       "    <tr>\n",
       "      <th>188</th>\n",
       "      <td>The Minimalists: Less Is Now</td>\n",
       "    </tr>\n",
       "    <tr>\n",
       "      <th>201</th>\n",
       "      <td>The Princess Switch</td>\n",
       "    </tr>\n",
       "  </tbody>\n",
       "</table>\n",
       "</div>"
      ],
      "text/plain": [
       "                                                title\n",
       "6                                   Leyla Everlasting\n",
       "62   American Factory: A Conversation with the Obamas\n",
       "64                                 Father of the Year\n",
       "188                      The Minimalists: Less Is Now\n",
       "201                               The Princess Switch"
      ]
     },
     "execution_count": 33,
     "metadata": {},
     "output_type": "execute_result"
    }
   ],
   "source": [
    "pd.DataFrame(df_merged.loc[df_merged[\"director\"].isna(), \"title\"].head())"
   ]
  },
  {
   "cell_type": "markdown",
   "metadata": {},
   "source": [
    "#### Acceso a datos específicos con ``iloc``:"
   ]
  },
  {
   "cell_type": "code",
   "execution_count": 34,
   "metadata": {},
   "outputs": [
    {
     "name": "stdout",
     "output_type": "stream",
     "text": [
      "0: IMDB Score\n",
      "1: Language\n",
      "2: show_id\n",
      "3: type\n",
      "4: title\n",
      "5: director\n",
      "6: cast\n",
      "7: country\n",
      "8: date_added\n",
      "9: release_year\n",
      "10: rating\n",
      "11: duration\n",
      "12: listed_in\n",
      "13: description\n"
     ]
    }
   ],
   "source": [
    "for i, j in enumerate(df_merged.columns):\n",
    "    print(f\"{i}: {j}\")"
   ]
  },
  {
   "cell_type": "markdown",
   "metadata": {},
   "source": [
    "Selecciona las primeras 5 filas del conjunto de datos y muestra solo las columnas title, director y country."
   ]
  },
  {
   "cell_type": "code",
   "execution_count": 35,
   "metadata": {},
   "outputs": [
    {
     "data": {
      "text/html": [
       "<div>\n",
       "<style scoped>\n",
       "    .dataframe tbody tr th:only-of-type {\n",
       "        vertical-align: middle;\n",
       "    }\n",
       "\n",
       "    .dataframe tbody tr th {\n",
       "        vertical-align: top;\n",
       "    }\n",
       "\n",
       "    .dataframe thead th {\n",
       "        text-align: right;\n",
       "    }\n",
       "</style>\n",
       "<table border=\"1\" class=\"dataframe\">\n",
       "  <thead>\n",
       "    <tr style=\"text-align: right;\">\n",
       "      <th></th>\n",
       "      <th>title</th>\n",
       "      <th>director</th>\n",
       "      <th>country</th>\n",
       "    </tr>\n",
       "  </thead>\n",
       "  <tbody>\n",
       "    <tr>\n",
       "      <th>0</th>\n",
       "      <td>Enter the Anime</td>\n",
       "      <td>Alex Burunova</td>\n",
       "      <td>United States, Japan</td>\n",
       "    </tr>\n",
       "    <tr>\n",
       "      <th>1</th>\n",
       "      <td>Dark Forces</td>\n",
       "      <td>Bernardo Arellano</td>\n",
       "      <td>Mexico</td>\n",
       "    </tr>\n",
       "    <tr>\n",
       "      <th>2</th>\n",
       "      <td>The App</td>\n",
       "      <td>Elisa Fuksas</td>\n",
       "      <td>Italy</td>\n",
       "    </tr>\n",
       "    <tr>\n",
       "      <th>3</th>\n",
       "      <td>The Open House</td>\n",
       "      <td>Matt Angel, Suzanne Coote</td>\n",
       "      <td>Canada, United States</td>\n",
       "    </tr>\n",
       "    <tr>\n",
       "      <th>4</th>\n",
       "      <td>Kaali Khuhi</td>\n",
       "      <td>Terrie Samundra</td>\n",
       "      <td>India</td>\n",
       "    </tr>\n",
       "    <tr>\n",
       "      <th>5</th>\n",
       "      <td>Drive</td>\n",
       "      <td>Tarun Mansukhani</td>\n",
       "      <td>India</td>\n",
       "    </tr>\n",
       "  </tbody>\n",
       "</table>\n",
       "</div>"
      ],
      "text/plain": [
       "             title                   director                country\n",
       "0  Enter the Anime              Alex Burunova   United States, Japan\n",
       "1      Dark Forces          Bernardo Arellano                 Mexico\n",
       "2          The App               Elisa Fuksas                  Italy\n",
       "3   The Open House  Matt Angel, Suzanne Coote  Canada, United States\n",
       "4      Kaali Khuhi            Terrie Samundra                  India\n",
       "5            Drive           Tarun Mansukhani                  India"
      ]
     },
     "execution_count": 35,
     "metadata": {},
     "output_type": "execute_result"
    }
   ],
   "source": [
    "df_merged.iloc[:6,[4,5,7]]"
   ]
  },
  {
   "cell_type": "markdown",
   "metadata": {},
   "source": [
    "Muestra las últimas 5 filas del conjunto de datos y selecciona las columnas title y description.\n",
    "\n"
   ]
  },
  {
   "cell_type": "code",
   "execution_count": 36,
   "metadata": {},
   "outputs": [
    {
     "data": {
      "text/html": [
       "<div>\n",
       "<style scoped>\n",
       "    .dataframe tbody tr th:only-of-type {\n",
       "        vertical-align: middle;\n",
       "    }\n",
       "\n",
       "    .dataframe tbody tr th {\n",
       "        vertical-align: top;\n",
       "    }\n",
       "\n",
       "    .dataframe thead th {\n",
       "        text-align: right;\n",
       "    }\n",
       "</style>\n",
       "<table border=\"1\" class=\"dataframe\">\n",
       "  <thead>\n",
       "    <tr style=\"text-align: right;\">\n",
       "      <th></th>\n",
       "      <th>title</th>\n",
       "      <th>description</th>\n",
       "    </tr>\n",
       "  </thead>\n",
       "  <tbody>\n",
       "    <tr>\n",
       "      <th>8802</th>\n",
       "      <td>Zodiac</td>\n",
       "      <td>A political cartoonist, a crime reporter and a...</td>\n",
       "    </tr>\n",
       "    <tr>\n",
       "      <th>8803</th>\n",
       "      <td>Zombie Dumb</td>\n",
       "      <td>While living alone in a spooky town, a young g...</td>\n",
       "    </tr>\n",
       "    <tr>\n",
       "      <th>8804</th>\n",
       "      <td>Zombieland</td>\n",
       "      <td>Looking to survive in a world taken over by zo...</td>\n",
       "    </tr>\n",
       "    <tr>\n",
       "      <th>8805</th>\n",
       "      <td>Zoom</td>\n",
       "      <td>Dragged from civilian life, a former superhero...</td>\n",
       "    </tr>\n",
       "    <tr>\n",
       "      <th>8806</th>\n",
       "      <td>Zubaan</td>\n",
       "      <td>A scrappy but poor boy worms his way into a ty...</td>\n",
       "    </tr>\n",
       "  </tbody>\n",
       "</table>\n",
       "</div>"
      ],
      "text/plain": [
       "            title                                        description\n",
       "8802       Zodiac  A political cartoonist, a crime reporter and a...\n",
       "8803  Zombie Dumb  While living alone in a spooky town, a young g...\n",
       "8804   Zombieland  Looking to survive in a world taken over by zo...\n",
       "8805         Zoom  Dragged from civilian life, a former superhero...\n",
       "8806       Zubaan  A scrappy but poor boy worms his way into a ty..."
      ]
     },
     "execution_count": 36,
     "metadata": {},
     "output_type": "execute_result"
    }
   ],
   "source": [
    "df_merged.iloc[-5:, [4, 13]]"
   ]
  },
  {
   "cell_type": "markdown",
   "metadata": {},
   "source": [
    "Selecciona las primeras 10 filas del dataset y muestra las columnas desde la segunda hasta la quinta (incluidas)."
   ]
  },
  {
   "cell_type": "code",
   "execution_count": 37,
   "metadata": {},
   "outputs": [
    {
     "data": {
      "text/html": [
       "<div>\n",
       "<style scoped>\n",
       "    .dataframe tbody tr th:only-of-type {\n",
       "        vertical-align: middle;\n",
       "    }\n",
       "\n",
       "    .dataframe tbody tr th {\n",
       "        vertical-align: top;\n",
       "    }\n",
       "\n",
       "    .dataframe thead th {\n",
       "        text-align: right;\n",
       "    }\n",
       "</style>\n",
       "<table border=\"1\" class=\"dataframe\">\n",
       "  <thead>\n",
       "    <tr style=\"text-align: right;\">\n",
       "      <th></th>\n",
       "      <th>show_id</th>\n",
       "      <th>type</th>\n",
       "      <th>title</th>\n",
       "      <th>director</th>\n",
       "    </tr>\n",
       "  </thead>\n",
       "  <tbody>\n",
       "    <tr>\n",
       "      <th>0</th>\n",
       "      <td>s3624</td>\n",
       "      <td>Movie</td>\n",
       "      <td>Enter the Anime</td>\n",
       "      <td>Alex Burunova</td>\n",
       "    </tr>\n",
       "    <tr>\n",
       "      <th>1</th>\n",
       "      <td>s2105</td>\n",
       "      <td>Movie</td>\n",
       "      <td>Dark Forces</td>\n",
       "      <td>Bernardo Arellano</td>\n",
       "    </tr>\n",
       "    <tr>\n",
       "      <th>2</th>\n",
       "      <td>s3095</td>\n",
       "      <td>Movie</td>\n",
       "      <td>The App</td>\n",
       "      <td>Elisa Fuksas</td>\n",
       "    </tr>\n",
       "    <tr>\n",
       "      <th>3</th>\n",
       "      <td>s5074</td>\n",
       "      <td>Movie</td>\n",
       "      <td>The Open House</td>\n",
       "      <td>Matt Angel, Suzanne Coote</td>\n",
       "    </tr>\n",
       "    <tr>\n",
       "      <th>4</th>\n",
       "      <td>s1778</td>\n",
       "      <td>Movie</td>\n",
       "      <td>Kaali Khuhi</td>\n",
       "      <td>Terrie Samundra</td>\n",
       "    </tr>\n",
       "    <tr>\n",
       "      <th>5</th>\n",
       "      <td>s3335</td>\n",
       "      <td>Movie</td>\n",
       "      <td>Drive</td>\n",
       "      <td>Tarun Mansukhani</td>\n",
       "    </tr>\n",
       "    <tr>\n",
       "      <th>6</th>\n",
       "      <td>s1595</td>\n",
       "      <td>Movie</td>\n",
       "      <td>Leyla Everlasting</td>\n",
       "      <td>NaN</td>\n",
       "    </tr>\n",
       "    <tr>\n",
       "      <th>7</th>\n",
       "      <td>s2425</td>\n",
       "      <td>Movie</td>\n",
       "      <td>The Last Days of American Crime</td>\n",
       "      <td>Olivier Megaton</td>\n",
       "    </tr>\n",
       "    <tr>\n",
       "      <th>8</th>\n",
       "      <td>s4973</td>\n",
       "      <td>Movie</td>\n",
       "      <td>Paradox</td>\n",
       "      <td>Daryl Hannah</td>\n",
       "    </tr>\n",
       "    <tr>\n",
       "      <th>9</th>\n",
       "      <td>s872</td>\n",
       "      <td>Movie</td>\n",
       "      <td>Sardar Ka Grandson</td>\n",
       "      <td>Kaashvie Nair</td>\n",
       "    </tr>\n",
       "    <tr>\n",
       "      <th>10</th>\n",
       "      <td>s1644</td>\n",
       "      <td>Movie</td>\n",
       "      <td>The Call</td>\n",
       "      <td>Lee Chung-hyun</td>\n",
       "    </tr>\n",
       "  </tbody>\n",
       "</table>\n",
       "</div>"
      ],
      "text/plain": [
       "   show_id   type                            title                   director\n",
       "0    s3624  Movie                  Enter the Anime              Alex Burunova\n",
       "1    s2105  Movie                      Dark Forces          Bernardo Arellano\n",
       "2    s3095  Movie                          The App               Elisa Fuksas\n",
       "3    s5074  Movie                   The Open House  Matt Angel, Suzanne Coote\n",
       "4    s1778  Movie                      Kaali Khuhi            Terrie Samundra\n",
       "5    s3335  Movie                            Drive           Tarun Mansukhani\n",
       "6    s1595  Movie                Leyla Everlasting                        NaN\n",
       "7    s2425  Movie  The Last Days of American Crime            Olivier Megaton\n",
       "8    s4973  Movie                          Paradox               Daryl Hannah\n",
       "9     s872  Movie               Sardar Ka Grandson              Kaashvie Nair\n",
       "10   s1644  Movie                         The Call             Lee Chung-hyun"
      ]
     },
     "execution_count": 37,
     "metadata": {},
     "output_type": "execute_result"
    }
   ],
   "source": [
    "df_merged.iloc[:11, 2:6]"
   ]
  },
  {
   "cell_type": "markdown",
   "metadata": {},
   "source": [
    "Muestra las últimas 7 filas del dataset y selecciona las columnas title, director, y country usando índices posicionales."
   ]
  },
  {
   "cell_type": "code",
   "execution_count": 38,
   "metadata": {},
   "outputs": [
    {
     "data": {
      "text/html": [
       "<div>\n",
       "<style scoped>\n",
       "    .dataframe tbody tr th:only-of-type {\n",
       "        vertical-align: middle;\n",
       "    }\n",
       "\n",
       "    .dataframe tbody tr th {\n",
       "        vertical-align: top;\n",
       "    }\n",
       "\n",
       "    .dataframe thead th {\n",
       "        text-align: right;\n",
       "    }\n",
       "</style>\n",
       "<table border=\"1\" class=\"dataframe\">\n",
       "  <thead>\n",
       "    <tr style=\"text-align: right;\">\n",
       "      <th></th>\n",
       "      <th>title</th>\n",
       "      <th>director</th>\n",
       "      <th>country</th>\n",
       "    </tr>\n",
       "  </thead>\n",
       "  <tbody>\n",
       "    <tr>\n",
       "      <th>8800</th>\n",
       "      <td>Zindagi Gulzar Hai</td>\n",
       "      <td>NaN</td>\n",
       "      <td>Pakistan</td>\n",
       "    </tr>\n",
       "    <tr>\n",
       "      <th>8801</th>\n",
       "      <td>Zinzana</td>\n",
       "      <td>Majid Al Ansari</td>\n",
       "      <td>United Arab Emirates, Jordan</td>\n",
       "    </tr>\n",
       "    <tr>\n",
       "      <th>8802</th>\n",
       "      <td>Zodiac</td>\n",
       "      <td>David Fincher</td>\n",
       "      <td>United States</td>\n",
       "    </tr>\n",
       "    <tr>\n",
       "      <th>8803</th>\n",
       "      <td>Zombie Dumb</td>\n",
       "      <td>NaN</td>\n",
       "      <td>NaN</td>\n",
       "    </tr>\n",
       "    <tr>\n",
       "      <th>8804</th>\n",
       "      <td>Zombieland</td>\n",
       "      <td>Ruben Fleischer</td>\n",
       "      <td>United States</td>\n",
       "    </tr>\n",
       "    <tr>\n",
       "      <th>8805</th>\n",
       "      <td>Zoom</td>\n",
       "      <td>Peter Hewitt</td>\n",
       "      <td>United States</td>\n",
       "    </tr>\n",
       "    <tr>\n",
       "      <th>8806</th>\n",
       "      <td>Zubaan</td>\n",
       "      <td>Mozez Singh</td>\n",
       "      <td>India</td>\n",
       "    </tr>\n",
       "  </tbody>\n",
       "</table>\n",
       "</div>"
      ],
      "text/plain": [
       "                   title         director                       country\n",
       "8800  Zindagi Gulzar Hai              NaN                      Pakistan\n",
       "8801             Zinzana  Majid Al Ansari  United Arab Emirates, Jordan\n",
       "8802              Zodiac    David Fincher                 United States\n",
       "8803         Zombie Dumb              NaN                           NaN\n",
       "8804          Zombieland  Ruben Fleischer                 United States\n",
       "8805                Zoom     Peter Hewitt                 United States\n",
       "8806              Zubaan      Mozez Singh                         India"
      ]
     },
     "execution_count": 38,
     "metadata": {},
     "output_type": "execute_result"
    }
   ],
   "source": [
    "df_merged.iloc[-7:, [4,5,7]]"
   ]
  },
  {
   "cell_type": "markdown",
   "metadata": {},
   "source": [
    "Selecciona las filas desde la 15 hasta la 25 (incluidas) y muestra las primeras 4 columnas."
   ]
  },
  {
   "cell_type": "code",
   "execution_count": 39,
   "metadata": {},
   "outputs": [
    {
     "data": {
      "text/html": [
       "<div>\n",
       "<style scoped>\n",
       "    .dataframe tbody tr th:only-of-type {\n",
       "        vertical-align: middle;\n",
       "    }\n",
       "\n",
       "    .dataframe tbody tr th {\n",
       "        vertical-align: top;\n",
       "    }\n",
       "\n",
       "    .dataframe thead th {\n",
       "        text-align: right;\n",
       "    }\n",
       "</style>\n",
       "<table border=\"1\" class=\"dataframe\">\n",
       "  <thead>\n",
       "    <tr style=\"text-align: right;\">\n",
       "      <th></th>\n",
       "      <th>IMDB Score</th>\n",
       "      <th>Language</th>\n",
       "      <th>show_id</th>\n",
       "      <th>type</th>\n",
       "    </tr>\n",
       "  </thead>\n",
       "  <tbody>\n",
       "    <tr>\n",
       "      <th>15</th>\n",
       "      <td>4.3</td>\n",
       "      <td>Hindi</td>\n",
       "      <td>s3061</td>\n",
       "      <td>Movie</td>\n",
       "    </tr>\n",
       "    <tr>\n",
       "      <th>16</th>\n",
       "      <td>4.3</td>\n",
       "      <td>English</td>\n",
       "      <td>s2898</td>\n",
       "      <td>Movie</td>\n",
       "    </tr>\n",
       "    <tr>\n",
       "      <th>17</th>\n",
       "      <td>4.3</td>\n",
       "      <td>Korean</td>\n",
       "      <td>s1469</td>\n",
       "      <td>Movie</td>\n",
       "    </tr>\n",
       "    <tr>\n",
       "      <th>18</th>\n",
       "      <td>4.4</td>\n",
       "      <td>English</td>\n",
       "      <td>s5319</td>\n",
       "      <td>Movie</td>\n",
       "    </tr>\n",
       "    <tr>\n",
       "      <th>19</th>\n",
       "      <td>4.4</td>\n",
       "      <td>English</td>\n",
       "      <td>s3658</td>\n",
       "      <td>Movie</td>\n",
       "    </tr>\n",
       "    <tr>\n",
       "      <th>20</th>\n",
       "      <td>4.4</td>\n",
       "      <td>English</td>\n",
       "      <td>s3584</td>\n",
       "      <td>Movie</td>\n",
       "    </tr>\n",
       "    <tr>\n",
       "      <th>21</th>\n",
       "      <td>4.4</td>\n",
       "      <td>Hindi</td>\n",
       "      <td>s1266</td>\n",
       "      <td>Movie</td>\n",
       "    </tr>\n",
       "    <tr>\n",
       "      <th>22</th>\n",
       "      <td>4.4</td>\n",
       "      <td>English</td>\n",
       "      <td>s1089</td>\n",
       "      <td>Movie</td>\n",
       "    </tr>\n",
       "    <tr>\n",
       "      <th>23</th>\n",
       "      <td>4.5</td>\n",
       "      <td>English</td>\n",
       "      <td>s2233</td>\n",
       "      <td>Movie</td>\n",
       "    </tr>\n",
       "    <tr>\n",
       "      <th>24</th>\n",
       "      <td>4.5</td>\n",
       "      <td>Dutch</td>\n",
       "      <td>s1110</td>\n",
       "      <td>Movie</td>\n",
       "    </tr>\n",
       "    <tr>\n",
       "      <th>25</th>\n",
       "      <td>4.5</td>\n",
       "      <td>English</td>\n",
       "      <td>s2188</td>\n",
       "      <td>Movie</td>\n",
       "    </tr>\n",
       "  </tbody>\n",
       "</table>\n",
       "</div>"
      ],
      "text/plain": [
       "    IMDB Score Language show_id   type\n",
       "15         4.3    Hindi   s3061  Movie\n",
       "16         4.3  English   s2898  Movie\n",
       "17         4.3   Korean   s1469  Movie\n",
       "18         4.4  English   s5319  Movie\n",
       "19         4.4  English   s3658  Movie\n",
       "20         4.4  English   s3584  Movie\n",
       "21         4.4    Hindi   s1266  Movie\n",
       "22         4.4  English   s1089  Movie\n",
       "23         4.5  English   s2233  Movie\n",
       "24         4.5    Dutch   s1110  Movie\n",
       "25         4.5  English   s2188  Movie"
      ]
     },
     "execution_count": 39,
     "metadata": {},
     "output_type": "execute_result"
    }
   ],
   "source": [
    "df_merged.iloc[15:26,:4]"
   ]
  },
  {
   "cell_type": "markdown",
   "metadata": {},
   "source": [
    "Muestra las filas 20 a 30 y solo las columnas title, release_year, y rating usando índices posicionales."
   ]
  },
  {
   "cell_type": "code",
   "execution_count": 40,
   "metadata": {},
   "outputs": [
    {
     "data": {
      "text/html": [
       "<div>\n",
       "<style scoped>\n",
       "    .dataframe tbody tr th:only-of-type {\n",
       "        vertical-align: middle;\n",
       "    }\n",
       "\n",
       "    .dataframe tbody tr th {\n",
       "        vertical-align: top;\n",
       "    }\n",
       "\n",
       "    .dataframe thead th {\n",
       "        text-align: right;\n",
       "    }\n",
       "</style>\n",
       "<table border=\"1\" class=\"dataframe\">\n",
       "  <thead>\n",
       "    <tr style=\"text-align: right;\">\n",
       "      <th></th>\n",
       "      <th>director</th>\n",
       "      <th>release_year</th>\n",
       "      <th>rating</th>\n",
       "    </tr>\n",
       "  </thead>\n",
       "  <tbody>\n",
       "    <tr>\n",
       "      <th>20</th>\n",
       "      <td>Michael Tiddes</td>\n",
       "      <td>2019</td>\n",
       "      <td>TV-14</td>\n",
       "    </tr>\n",
       "    <tr>\n",
       "      <th>21</th>\n",
       "      <td>Ribhu Dasgupta</td>\n",
       "      <td>2021</td>\n",
       "      <td>TV-MA</td>\n",
       "    </tr>\n",
       "    <tr>\n",
       "      <th>22</th>\n",
       "      <td>Ben Falcone</td>\n",
       "      <td>2021</td>\n",
       "      <td>PG-13</td>\n",
       "    </tr>\n",
       "    <tr>\n",
       "      <th>23</th>\n",
       "      <td>Peter Sullivan</td>\n",
       "      <td>2020</td>\n",
       "      <td>TV-14</td>\n",
       "    </tr>\n",
       "    <tr>\n",
       "      <th>24</th>\n",
       "      <td>Appie Boudellah, Aram van de Rest</td>\n",
       "      <td>2021</td>\n",
       "      <td>TV-MA</td>\n",
       "    </tr>\n",
       "    <tr>\n",
       "      <th>25</th>\n",
       "      <td>Katleho Ramaphakela, Rethabile Ramaphakela</td>\n",
       "      <td>2020</td>\n",
       "      <td>TV-MA</td>\n",
       "    </tr>\n",
       "    <tr>\n",
       "      <th>26</th>\n",
       "      <td>Julien Royal</td>\n",
       "      <td>2021</td>\n",
       "      <td>TV-MA</td>\n",
       "    </tr>\n",
       "    <tr>\n",
       "      <th>27</th>\n",
       "      <td>Marco Risi</td>\n",
       "      <td>2018</td>\n",
       "      <td>TV-14</td>\n",
       "    </tr>\n",
       "    <tr>\n",
       "      <th>28</th>\n",
       "      <td>Nadia Hallgren</td>\n",
       "      <td>2019</td>\n",
       "      <td>TV-PG</td>\n",
       "    </tr>\n",
       "    <tr>\n",
       "      <th>29</th>\n",
       "      <td>Osgood Perkins</td>\n",
       "      <td>2016</td>\n",
       "      <td>TV-14</td>\n",
       "    </tr>\n",
       "    <tr>\n",
       "      <th>30</th>\n",
       "      <td>Elisabeth Vogler</td>\n",
       "      <td>2019</td>\n",
       "      <td>TV-MA</td>\n",
       "    </tr>\n",
       "  </tbody>\n",
       "</table>\n",
       "</div>"
      ],
      "text/plain": [
       "                                      director  release_year rating\n",
       "20                              Michael Tiddes          2019  TV-14\n",
       "21                              Ribhu Dasgupta          2021  TV-MA\n",
       "22                                 Ben Falcone          2021  PG-13\n",
       "23                              Peter Sullivan          2020  TV-14\n",
       "24           Appie Boudellah, Aram van de Rest          2021  TV-MA\n",
       "25  Katleho Ramaphakela, Rethabile Ramaphakela          2020  TV-MA\n",
       "26                                Julien Royal          2021  TV-MA\n",
       "27                                  Marco Risi          2018  TV-14\n",
       "28                              Nadia Hallgren          2019  TV-PG\n",
       "29                              Osgood Perkins          2016  TV-14\n",
       "30                            Elisabeth Vogler          2019  TV-MA"
      ]
     },
     "execution_count": 40,
     "metadata": {},
     "output_type": "execute_result"
    }
   ],
   "source": [
    "df_merged.iloc[20:31,[5,9,10]]"
   ]
  },
  {
   "cell_type": "markdown",
   "metadata": {},
   "source": [
    "### EDA Extra"
   ]
  },
  {
   "cell_type": "markdown",
   "metadata": {},
   "source": [
    "Ahora que tenemos un dataframe más completo podemos realizar algunos análisis adicionales.\n",
    "Vamos a intentar trabajar con la duración de los títulos. Para ello comencemos separando las películas de las series, ya que tienen formatos de tiempo diferentes."
   ]
  },
  {
   "cell_type": "code",
   "execution_count": 86,
   "metadata": {},
   "outputs": [
    {
     "data": {
      "text/html": [
       "<div>\n",
       "<style scoped>\n",
       "    .dataframe tbody tr th:only-of-type {\n",
       "        vertical-align: middle;\n",
       "    }\n",
       "\n",
       "    .dataframe tbody tr th {\n",
       "        vertical-align: top;\n",
       "    }\n",
       "\n",
       "    .dataframe thead th {\n",
       "        text-align: right;\n",
       "    }\n",
       "</style>\n",
       "<table border=\"1\" class=\"dataframe\">\n",
       "  <thead>\n",
       "    <tr style=\"text-align: right;\">\n",
       "      <th></th>\n",
       "      <th>IMDB Score</th>\n",
       "      <th>Language</th>\n",
       "      <th>show_id</th>\n",
       "      <th>type</th>\n",
       "      <th>title</th>\n",
       "      <th>director</th>\n",
       "      <th>cast</th>\n",
       "      <th>country</th>\n",
       "      <th>date_added</th>\n",
       "      <th>release_year</th>\n",
       "      <th>rating</th>\n",
       "      <th>duration</th>\n",
       "      <th>listed_in</th>\n",
       "      <th>description</th>\n",
       "    </tr>\n",
       "  </thead>\n",
       "  <tbody>\n",
       "    <tr>\n",
       "      <th>0</th>\n",
       "      <td>2.5</td>\n",
       "      <td>English/Japanese</td>\n",
       "      <td>s3624</td>\n",
       "      <td>Movie</td>\n",
       "      <td>Enter the Anime</td>\n",
       "      <td>Alex Burunova</td>\n",
       "      <td>Kozo Morishita, Yoko Takahashi, Shinji Aramaki...</td>\n",
       "      <td>United States, Japan</td>\n",
       "      <td>August 5, 2019</td>\n",
       "      <td>2019</td>\n",
       "      <td>TV-MA</td>\n",
       "      <td>59 min</td>\n",
       "      <td>Documentaries, International Movies</td>\n",
       "      <td>What is anime? Through deep-dives with notable...</td>\n",
       "    </tr>\n",
       "    <tr>\n",
       "      <th>1</th>\n",
       "      <td>2.6</td>\n",
       "      <td>Spanish</td>\n",
       "      <td>s2105</td>\n",
       "      <td>Movie</td>\n",
       "      <td>Dark Forces</td>\n",
       "      <td>Bernardo Arellano</td>\n",
       "      <td>Tenoch Huerta, Eréndira Ibarra, Dale Carley, A...</td>\n",
       "      <td>Mexico</td>\n",
       "      <td>August 21, 2020</td>\n",
       "      <td>2020</td>\n",
       "      <td>TV-MA</td>\n",
       "      <td>81 min</td>\n",
       "      <td>Horror Movies, Independent Movies, Internation...</td>\n",
       "      <td>In search of his sister, a renegade criminal s...</td>\n",
       "    </tr>\n",
       "  </tbody>\n",
       "</table>\n",
       "</div>"
      ],
      "text/plain": [
       "   IMDB Score          Language show_id   type            title  \\\n",
       "0         2.5  English/Japanese   s3624  Movie  Enter the Anime   \n",
       "1         2.6           Spanish   s2105  Movie      Dark Forces   \n",
       "\n",
       "            director                                               cast  \\\n",
       "0      Alex Burunova  Kozo Morishita, Yoko Takahashi, Shinji Aramaki...   \n",
       "1  Bernardo Arellano  Tenoch Huerta, Eréndira Ibarra, Dale Carley, A...   \n",
       "\n",
       "                country       date_added  release_year rating duration  \\\n",
       "0  United States, Japan   August 5, 2019          2019  TV-MA   59 min   \n",
       "1                Mexico  August 21, 2020          2020  TV-MA   81 min   \n",
       "\n",
       "                                           listed_in  \\\n",
       "0                Documentaries, International Movies   \n",
       "1  Horror Movies, Independent Movies, Internation...   \n",
       "\n",
       "                                         description  \n",
       "0  What is anime? Through deep-dives with notable...  \n",
       "1  In search of his sister, a renegade criminal s...  "
      ]
     },
     "metadata": {},
     "output_type": "display_data"
    },
    {
     "data": {
      "text/html": [
       "<div>\n",
       "<style scoped>\n",
       "    .dataframe tbody tr th:only-of-type {\n",
       "        vertical-align: middle;\n",
       "    }\n",
       "\n",
       "    .dataframe tbody tr th {\n",
       "        vertical-align: top;\n",
       "    }\n",
       "\n",
       "    .dataframe thead th {\n",
       "        text-align: right;\n",
       "    }\n",
       "</style>\n",
       "<table border=\"1\" class=\"dataframe\">\n",
       "  <thead>\n",
       "    <tr style=\"text-align: right;\">\n",
       "      <th></th>\n",
       "      <th>IMDB Score</th>\n",
       "      <th>Language</th>\n",
       "      <th>show_id</th>\n",
       "      <th>type</th>\n",
       "      <th>title</th>\n",
       "      <th>director</th>\n",
       "      <th>cast</th>\n",
       "      <th>country</th>\n",
       "      <th>date_added</th>\n",
       "      <th>release_year</th>\n",
       "      <th>rating</th>\n",
       "      <th>duration</th>\n",
       "      <th>listed_in</th>\n",
       "      <th>description</th>\n",
       "    </tr>\n",
       "  </thead>\n",
       "  <tbody>\n",
       "    <tr>\n",
       "      <th>0</th>\n",
       "      <td>NaN</td>\n",
       "      <td>NaN</td>\n",
       "      <td>s2</td>\n",
       "      <td>TV Show</td>\n",
       "      <td>Blood &amp; Water</td>\n",
       "      <td>NaN</td>\n",
       "      <td>Ama Qamata, Khosi Ngema, Gail Mabalane, Thaban...</td>\n",
       "      <td>South Africa</td>\n",
       "      <td>September 24, 2021</td>\n",
       "      <td>2021</td>\n",
       "      <td>TV-MA</td>\n",
       "      <td>2 Seasons</td>\n",
       "      <td>International TV Shows, TV Dramas, TV Mysteries</td>\n",
       "      <td>After crossing paths at a party, a Cape Town t...</td>\n",
       "    </tr>\n",
       "    <tr>\n",
       "      <th>1</th>\n",
       "      <td>NaN</td>\n",
       "      <td>NaN</td>\n",
       "      <td>s3</td>\n",
       "      <td>TV Show</td>\n",
       "      <td>Ganglands</td>\n",
       "      <td>Julien Leclercq</td>\n",
       "      <td>Sami Bouajila, Tracy Gotoas, Samuel Jouy, Nabi...</td>\n",
       "      <td>NaN</td>\n",
       "      <td>September 24, 2021</td>\n",
       "      <td>2021</td>\n",
       "      <td>TV-MA</td>\n",
       "      <td>NaN</td>\n",
       "      <td>Crime TV Shows, International TV Shows, TV Act...</td>\n",
       "      <td>To protect his family from a powerful drug lor...</td>\n",
       "    </tr>\n",
       "  </tbody>\n",
       "</table>\n",
       "</div>"
      ],
      "text/plain": [
       "   IMDB Score Language show_id     type          title         director  \\\n",
       "0         NaN      NaN      s2  TV Show  Blood & Water              NaN   \n",
       "1         NaN      NaN      s3  TV Show      Ganglands  Julien Leclercq   \n",
       "\n",
       "                                                cast       country  \\\n",
       "0  Ama Qamata, Khosi Ngema, Gail Mabalane, Thaban...  South Africa   \n",
       "1  Sami Bouajila, Tracy Gotoas, Samuel Jouy, Nabi...           NaN   \n",
       "\n",
       "           date_added  release_year rating   duration  \\\n",
       "0  September 24, 2021          2021  TV-MA  2 Seasons   \n",
       "1  September 24, 2021          2021  TV-MA        NaN   \n",
       "\n",
       "                                           listed_in  \\\n",
       "0    International TV Shows, TV Dramas, TV Mysteries   \n",
       "1  Crime TV Shows, International TV Shows, TV Act...   \n",
       "\n",
       "                                         description  \n",
       "0  After crossing paths at a party, a Cape Town t...  \n",
       "1  To protect his family from a powerful drug lor...  "
      ]
     },
     "metadata": {},
     "output_type": "display_data"
    }
   ],
   "source": [
    "df_movies = df_merged[df_merged[\"type\"] == \"Movie\"].reset_index(drop = True)\n",
    "df_tvshow = df_merged[df_merged[\"type\"] == \"TV Show\"].reset_index(drop = True)\n",
    "\n",
    "display(df_movies.head(2))\n",
    "display(df_tvshow.head(2))"
   ]
  },
  {
   "cell_type": "markdown",
   "metadata": {},
   "source": [
    "Para cada nuevo dataframe podremos transformar la columna de duración de tipo ``object`` a tipo ``numeric``. Esto lo haremos con un map:"
   ]
  },
  {
   "cell_type": "code",
   "execution_count": 87,
   "metadata": {},
   "outputs": [],
   "source": [
    "import re\n",
    "\n",
    "def movie_duration(x):\n",
    "    try:\n",
    "        return int(re.sub(\" min\", \"\", str(x)))\n",
    "    except ValueError:\n",
    "        return np.nan\n",
    "\n",
    "df_movies[\"duration\"] = np.array(list(map(movie_duration , df_movies[\"duration\"].values)))"
   ]
  },
  {
   "cell_type": "code",
   "execution_count": 90,
   "metadata": {},
   "outputs": [
    {
     "data": {
      "text/plain": [
       "count    3503.000000\n",
       "mean      101.932344\n",
       "std        35.487616\n",
       "min         3.000000\n",
       "25%        78.000000\n",
       "50%       107.000000\n",
       "75%       125.000000\n",
       "max       312.000000\n",
       "Name: duration, dtype: float64"
      ]
     },
     "execution_count": 90,
     "metadata": {},
     "output_type": "execute_result"
    }
   ],
   "source": [
    "df_movies[\"duration\"].describe()"
   ]
  },
  {
   "cell_type": "code",
   "execution_count": 102,
   "metadata": {},
   "outputs": [
    {
     "data": {
      "text/plain": [
       "0.34814873430924204"
      ]
     },
     "execution_count": 102,
     "metadata": {},
     "output_type": "execute_result"
    }
   ],
   "source": [
    "df_movies[\"duration\"].describe()[\"std\"]/df_movies[\"duration\"].describe()[\"mean\"]"
   ]
  },
  {
   "cell_type": "markdown",
   "metadata": {},
   "source": [
    "Para las películas se observa que la duración media es de alrededor de 102 minutos, y la mediana es de 107. Esto nos indica que no hay muchos valores atípicos y que hay más valores a la derecha de la media que en la izquierda. La desviación estándar es de 35.49, lo cual nos da un coeficiente de variación del 0.348, lo cual indica una dispersión relativamente baja de los datos. Todo esto se puede observar con un histograma."
   ]
  },
  {
   "cell_type": "code",
   "execution_count": 109,
   "metadata": {},
   "outputs": [
    {
     "data": {
      "text/plain": [
       "<Axes: ylabel='Frequency'>"
      ]
     },
     "execution_count": 109,
     "metadata": {},
     "output_type": "execute_result"
    },
    {
     "data": {
      "image/png": "[encoded data removed]",
      "text/plain": [
       "<Figure size 640x480 with 1 Axes>"
      ]
     },
     "metadata": {},
     "output_type": "display_data"
    }
   ],
   "source": [
    "df_movies[\"duration\"].plot.hist(bins=17)"
   ]
  },
  {
   "cell_type": "markdown",
   "metadata": {},
   "source": [
    "Para las series podemos realizar un análisis similar."
   ]
  },
  {
   "cell_type": "code",
   "execution_count": 92,
   "metadata": {},
   "outputs": [],
   "source": [
    "def show_duration(x):\n",
    "    try:\n",
    "        return int(re.sub(\" Seasons\", \"\", str(x)))\n",
    "    except ValueError:\n",
    "        return np.nan\n",
    "\n",
    "df_tvshow[\"duration\"] = np.array(list(map(show_duration, df_tvshow[\"duration\"].values)))"
   ]
  },
  {
   "cell_type": "code",
   "execution_count": 99,
   "metadata": {},
   "outputs": [
    {
     "data": {
      "text/plain": [
       "count    491.000000\n",
       "mean       2.912424\n",
       "std        2.455828\n",
       "min        2.000000\n",
       "25%        2.000000\n",
       "50%        2.000000\n",
       "75%        2.000000\n",
       "max       17.000000\n",
       "Name: duration, dtype: float64"
      ]
     },
     "execution_count": 99,
     "metadata": {},
     "output_type": "execute_result"
    }
   ],
   "source": [
    "df_tvshow[\"duration\"].describe()"
   ]
  },
  {
   "cell_type": "code",
   "execution_count": 110,
   "metadata": {},
   "outputs": [
    {
     "data": {
      "text/plain": [
       "0.8432247937923877"
      ]
     },
     "execution_count": 110,
     "metadata": {},
     "output_type": "execute_result"
    }
   ],
   "source": [
    "df_tvshow[\"duration\"].describe()[\"std\"]/df_tvshow[\"duration\"].describe()[\"mean\"]"
   ]
  },
  {
   "cell_type": "markdown",
   "metadata": {},
   "source": [
    "En cuanto a las series podemos observar claramente que la mayor parte de éstas solo duran 2 temporadas. Esto se infiere a partir de los cuartiles, donde el cuartil q3 tiene un valor de 2, por lo que el 75% de los datos se encuentran ahí o por debajo y solo el 25% se encuentran ahí o por encima. Además en este caso vemos una desviación estándar que se acerca al valor de la media, con un coeficiente de variación de 0.84, lo cual indica que la muestra ya se encuentra más dispersa."
   ]
  },
  {
   "cell_type": "code",
   "execution_count": 118,
   "metadata": {},
   "outputs": [
    {
     "data": {
      "text/plain": [
       "<Axes: ylabel='Frequency'>"
      ]
     },
     "execution_count": 118,
     "metadata": {},
     "output_type": "execute_result"
    },
    {
     "data": {
      "image/png": "[encoded data removed]",
      "text/plain": [
       "<Figure size 640x480 with 1 Axes>"
      ]
     },
     "metadata": {},
     "output_type": "display_data"
    }
   ],
   "source": [
    "df_tvshow[\"duration\"].plot.hist(bins = 17)"
   ]
  },
  {
   "cell_type": "markdown",
   "metadata": {},
   "source": [
    "Concluyendo este breve análisis, las películas de netflix tienen una duración media de unos 102 minutos. Una búsqueda rápida en google nos muestra que la duración media de una película tradicional en 2021 es de 131 min, por lo que las películas de netflix tienden a ser algo más cortas.\n",
    "\n",
    "En cuanto a las series se ve una clara tendencia a hacer series de 2 temporadas. En el otro lado del espectro ya se encontrarían las series largas, seguramente aquellas de toda la vida. La tendencia sugiere que en general las series se hacen cortas o se serializan de forma mucho más extensa. \n",
    "\n",
    "De cara a futuro sería interesante analizar estos datos por género o incluso por rating, de tal forma que podríamos ver de forma mucho más detallada qué tipo de películas o series triunfan más según su formato."
   ]
  }
 ],
 "metadata": {
  "kernelspec": {
   "display_name": "Python 3",
   "language": "python",
   "name": "python3"
  },
  "language_info": {
   "codemirror_mode": {
    "name": "ipython",
    "version": 3
   },
   "file_extension": ".py",
   "mimetype": "text/x-python",
   "name": "python",
   "nbconvert_exporter": "python",
   "pygments_lexer": "ipython3",
   "version": "3.11.9"
  }
 },
 "nbformat": 4,
 "nbformat_minor": 2
}
